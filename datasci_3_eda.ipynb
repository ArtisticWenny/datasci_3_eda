{
  "nbformat": 4,
  "nbformat_minor": 0,
  "metadata": {
    "colab": {
      "provenance": [],
      "authorship_tag": "ABX9TyN36JE1DnF0nTTUq0NHEXX1",
      "include_colab_link": true
    },
    "kernelspec": {
      "name": "python3",
      "display_name": "Python 3"
    },
    "language_info": {
      "name": "python"
    }
  },
  "cells": [
    {
      "cell_type": "markdown",
      "metadata": {
        "id": "view-in-github",
        "colab_type": "text"
      },
      "source": [
        "<a href=\"https://colab.research.google.com/github/ArtisticWenny/datasci_3_eda/blob/main/datasci_3_eda.ipynb\" target=\"_parent\"><img src=\"https://colab.research.google.com/assets/colab-badge.svg\" alt=\"Open In Colab\"/></a>"
      ]
    },
    {
      "cell_type": "markdown",
      "source": [
        "Import Google Drive"
      ],
      "metadata": {
        "id": "WCUYHDrU9LhF"
      }
    },
    {
      "cell_type": "code",
      "execution_count": 9,
      "metadata": {
        "colab": {
          "base_uri": "https://localhost:8080/"
        },
        "id": "xmePF_Mqw6Nz",
        "outputId": "edf70a09-04b7-43e0-a5ee-d2ad0592c1a9"
      },
      "outputs": [
        {
          "output_type": "stream",
          "name": "stdout",
          "text": [
            "Mounted at /content/drive\n"
          ]
        }
      ],
      "source": [
        "from google.colab import drive\n",
        "\n",
        "drive.mount('/content/drive')"
      ]
    },
    {
      "cell_type": "markdown",
      "source": [
        "Load in packages and Load in data"
      ],
      "metadata": {
        "id": "G6VPiWStkyxE"
      }
    },
    {
      "cell_type": "code",
      "source": [
        "import pandas as pd\n",
        "\n",
        "csv_file_path = ['/content/drive/MyDrive/Hospital_Cost_Report_2019.csv']\n",
        "\n",
        "df = pd.read_csv('/content/drive/MyDrive/Hospital_Cost_Report_2019.csv')\n",
        "\n",
        "print(df.head)"
      ],
      "metadata": {
        "id": "otqQi4c79wIk"
      },
      "execution_count": null,
      "outputs": []
    },
    {
      "cell_type": "code",
      "source": [
        "df.shape\n",
        "df.columns"
      ],
      "metadata": {
        "id": "WyEJiUhslcBJ"
      },
      "execution_count": null,
      "outputs": []
    },
    {
      "cell_type": "markdown",
      "source": [
        " Calculate measures of central tendency"
      ],
      "metadata": {
        "id": "xRoIyTQUhSK-"
      }
    },
    {
      "cell_type": "markdown",
      "source": [],
      "metadata": {
        "id": "KsuF-EC5hZkU"
      }
    },
    {
      "cell_type": "code",
      "source": [
        "df['rpt_rec_num'].nunique()\n"
      ],
      "metadata": {
        "id": "bbqF8Joamm6g"
      },
      "execution_count": null,
      "outputs": []
    },
    {
      "cell_type": "markdown",
      "source": [
        "Looking for missingness"
      ],
      "metadata": {
        "id": "4la16w4Roz1-"
      }
    },
    {
      "cell_type": "code",
      "source": [
        "df.sample(10)\n",
        "df.isnull()\n",
        "\n",
        "percentmissing = pd.DataFrame(df.isnull().sum()).reset_index()\n",
        "print(percentmissing)\n",
        "\n",
        "percentmissing.rename(columns = {'index':'variable', 0:'count_missing'})\n"
      ],
      "metadata": {
        "id": "erfICUwuo2qy"
      },
      "execution_count": null,
      "outputs": []
    },
    {
      "cell_type": "code",
      "source": [
        "df ['Hospital Name'].value_counts()"
      ],
      "metadata": {
        "id": "QgrWw3TWwNBR"
      },
      "execution_count": null,
      "outputs": []
    },
    {
      "cell_type": "code",
      "source": [
        "df.describe()"
      ],
      "metadata": {
        "id": "jH-vJY4twZhY"
      },
      "execution_count": null,
      "outputs": []
    },
    {
      "cell_type": "markdown",
      "source": [
        "## Converting variables"
      ],
      "metadata": {
        "id": "PAidyTXYxmMA"
      }
    },
    {
      "cell_type": "code",
      "source": [
        "df['rpt_rec_num'] = df ['rpt_rec_num'].astype(str)\n",
        "df.describe()"
      ],
      "metadata": {
        "id": "9RcJGxtWxJBH"
      },
      "execution_count": null,
      "outputs": []
    },
    {
      "cell_type": "code",
      "source": [
        "df['Provider CCN'] = df ['Provider CCN'].astype(str)\n",
        "df.describe()"
      ],
      "metadata": {
        "id": "REA95lgayJLu"
      },
      "execution_count": null,
      "outputs": []
    },
    {
      "cell_type": "code",
      "source": [
        "df['Medicare CBSA Number'] = df ['Medicare CBSA Number'].astype(str)\n",
        "df.describe()"
      ],
      "metadata": {
        "id": "eqBIr72PygYl"
      },
      "execution_count": null,
      "outputs": []
    },
    {
      "cell_type": "code",
      "source": [
        "df['Provider Type'] = df ['Provider Type'].astype(str)\n",
        "df.describe()"
      ],
      "metadata": {
        "id": "16uOvhxmytDc"
      },
      "execution_count": null,
      "outputs": []
    },
    {
      "cell_type": "code",
      "source": [
        "df['Type of Control'] = df ['Type of Control'].astype(str)\n",
        "df.describe()"
      ],
      "metadata": {
        "id": "VntkTyiOyzAi"
      },
      "execution_count": null,
      "outputs": []
    },
    {
      "cell_type": "code",
      "source": [
        "df['Fiscal Year End Date'] = df ['Fiscal Year End Date'].astype(str)\n",
        "df.describe()"
      ],
      "metadata": {
        "id": "NZkpv9h9kHg6"
      },
      "execution_count": null,
      "outputs": []
    },
    {
      "cell_type": "markdown",
      "source": [
        "## Univariate Analysis"
      ],
      "metadata": {
        "id": "gZPOcj6tl7t5"
      }
    },
    {
      "cell_type": "code",
      "source": [
        "mean = df['FTE - Employees on Payroll'].mean()\n",
        "median = df['FTE - Employees on Payroll'].median()\n",
        "mode = df['FTE - Employees on Payroll'].mode()\n",
        "\n",
        "\n",
        "range = df['FTE - Employees on Payroll'].max() - df['FTE - Employees on Payroll'].min()\n",
        "variance = df['FTE - Employees on Payroll'].var()\n",
        "standard_deviation = df['FTE - Employees on Payroll'].std()\n",
        "iqr = df['FTE - Employees on Payroll'].quantile(0.75) - df['FTE - Employees on Payroll'].quantile(0.25)\n",
        "\n",
        "\n",
        "print('Mean:', mean)\n",
        "print('Median:', median)\n",
        "print('Mode:', mode)\n",
        "print('Range:', range)\n",
        "print('Variance:', variance)\n",
        "print('Standard deviation:', standard_deviation)\n",
        "print('IQR:', iqr)\n",
        "\n"
      ],
      "metadata": {
        "colab": {
          "base_uri": "https://localhost:8080/"
        },
        "id": "95D5atYNmKpP",
        "outputId": "d50e4eb0-152d-4ce5-9c8d-78ca3894c0c5"
      },
      "execution_count": 37,
      "outputs": [
        {
          "output_type": "stream",
          "name": "stdout",
          "text": [
            "Mean: 847.6364643272909\n",
            "Median: 293.75\n",
            "Mode: 0    67.0\n",
            "1    72.0\n",
            "Name: FTE - Employees on Payroll, dtype: float64\n",
            "Range: 27421.37\n",
            "Variance: 2560706.535913977\n",
            "Standard deviation: 1600.2207772410584\n",
            "IQR: 777.14\n"
          ]
        }
      ]
    },
    {
      "cell_type": "code",
      "source": [
        "mean = df['Number of Interns and Residents (FTE)'].mean()\n",
        "median = df['Number of Interns and Residents (FTE)'].median()\n",
        "mode = df['Number of Interns and Residents (FTE)'].mode()\n",
        "\n",
        "range = df['Number of Interns and Residents (FTE)'].max() - df['Number of Interns and Residents (FTE)'].min()\n",
        "variance = df['Number of Interns and Residents (FTE)'].var()\n",
        "standard_deviation = df['Number of Interns and Residents (FTE)'].std()\n",
        "iqr = df['Number of Interns and Residents (FTE)'].quantile(0.75) - df['Number of Interns and Residents (FTE)'].quantile(0.25)\n",
        "\n",
        "\n",
        "print('Mean:', mean)\n",
        "print('Median:', median)\n",
        "print('Mode:', mode)\n",
        "print('Range:', range)\n",
        "print('Variance:', variance)\n",
        "print('Standard deviation:', standard_deviation)\n",
        "print('IQR:', iqr)"
      ],
      "metadata": {
        "colab": {
          "base_uri": "https://localhost:8080/"
        },
        "id": "KoLyALyuma4I",
        "outputId": "6f9ee347-4325-45a5-81f7-dcd88606dcfd"
      },
      "execution_count": 38,
      "outputs": [
        {
          "output_type": "stream",
          "name": "stdout",
          "text": [
            "Mean: 92.6017512508935\n",
            "Median: 26.66\n",
            "Mode: 0    1.0\n",
            "Name: Number of Interns and Residents (FTE), dtype: float64\n",
            "Range: 1615.32\n",
            "Variance: 25932.825572682\n",
            "Standard deviation: 161.0367211932794\n",
            "IQR: 90.335\n"
          ]
        }
      ]
    },
    {
      "cell_type": "code",
      "source": [
        "mean = df['Total Days Title V'].mean()\n",
        "median = df['Total Days Title V'].median()\n",
        "mode = df['Total Days Title V'].mode()\n",
        "\n",
        "range = df['Total Days Title V'].max() - df['Total Days Title V'].min()\n",
        "variance = df['Total Days Title V'].var()\n",
        "standard_deviation = df['Total Days Title V'].std()\n",
        "iqr = df['Total Days Title V'].quantile(0.75) - df['Total Days Title V'].quantile(0.25)\n",
        "\n",
        "\n",
        "print('Mean:', mean)\n",
        "print('Median:', median)\n",
        "print('Mode:', mode)\n",
        "print('Range:', range)\n",
        "print('Variance:', variance)\n",
        "print('Standard deviation:', standard_deviation)\n",
        "print('IQR:', iqr)"
      ],
      "metadata": {
        "colab": {
          "base_uri": "https://localhost:8080/"
        },
        "id": "HkLkEWdbmvsB",
        "outputId": "065964b5-0b2b-4415-e81a-496a18654f52"
      },
      "execution_count": 39,
      "outputs": [
        {
          "output_type": "stream",
          "name": "stdout",
          "text": [
            "Mean: 1888.047619047619\n",
            "Median: 514.0\n",
            "Mode: 0    3.0\n",
            "1    4.0\n",
            "Name: Total Days Title V, dtype: float64\n",
            "Range: 32090.0\n",
            "Variance: 13632616.992401216\n",
            "Standard deviation: 3692.2373965390166\n",
            "IQR: 2262.0\n"
          ]
        }
      ]
    },
    {
      "cell_type": "code",
      "source": [
        "mean = df['Total Days Title XVIII'].mean()\n",
        "median = df['Total Days Title XVIII'].median()\n",
        "mode = df['Total Days Title XVIII'].mode()\n",
        "\n",
        "range = df['Total Days Title XVIII'].max() - df['Total Days Title XVIII'].min()\n",
        "variance = df['Total Days Title XVIII'].var()\n",
        "standard_deviation = df['Total Days Title XVIII'].std()\n",
        "iqr = df['Total Days Title XVIII'].quantile(0.75) - df['Total Days Title XVIII'].quantile(0.25)\n",
        "\n",
        "\n",
        "print('Mean:', mean)\n",
        "print('Median:', median)\n",
        "print('Mode:', mode)\n",
        "print('Range:', range)\n",
        "print('Variance:', variance)\n",
        "print('Standard deviation:', standard_deviation)\n",
        "print('IQR:', iqr)"
      ],
      "metadata": {
        "colab": {
          "base_uri": "https://localhost:8080/"
        },
        "id": "b4LR-5KUm6BK",
        "outputId": "5c1ecb50-e8cc-4670-be93-feaaf9f5049d"
      },
      "execution_count": 40,
      "outputs": [
        {
          "output_type": "stream",
          "name": "stdout",
          "text": [
            "Mean: 8676.068291868425\n",
            "Median: 3436.0\n",
            "Mode: 0    464.0\n",
            "1    638.0\n",
            "Name: Total Days Title XVIII, dtype: float64\n",
            "Range: 193047.0\n",
            "Variance: 175572168.66116711\n",
            "Standard deviation: 13250.364850115151\n",
            "IQR: 9319.0\n"
          ]
        }
      ]
    },
    {
      "cell_type": "code",
      "source": [
        "mean = df['Total Days Title XIX'].mean()\n",
        "median = df['Total Days Title XIX'].median()\n",
        "mode = df['Total Days Title XIX'].mode()\n",
        "\n",
        "range = df['Total Days Title XIX'].max() - df['Total Days Title XIX'].min()\n",
        "variance = df['Total Days Title XIX'].var()\n",
        "standard_deviation = df['Total Days Title XIX'].std()\n",
        "iqr = df['Total Days Title XIX'].quantile(0.75) - df['Total Days Title XIX'].quantile(0.25)\n",
        "\n",
        "\n",
        "print('Mean:', mean)\n",
        "print('Median:', median)\n",
        "print('Mode:', mode)\n",
        "print('Range:', range)\n",
        "print('Variance:', variance)\n",
        "print('Standard deviation:', standard_deviation)\n",
        "print('IQR:', iqr)"
      ],
      "metadata": {
        "colab": {
          "base_uri": "https://localhost:8080/"
        },
        "id": "1t7pbH4QqPrC",
        "outputId": "c8eff19a-bb3c-4b64-b5d3-f47467a4d445"
      },
      "execution_count": 41,
      "outputs": [
        {
          "output_type": "stream",
          "name": "stdout",
          "text": [
            "Mean: 3527.2851592851594\n",
            "Median: 754.0\n",
            "Mode: 0    2.0\n",
            "Name: Total Days Title XIX, dtype: float64\n",
            "Range: 178049.0\n",
            "Variance: 66377391.00007503\n",
            "Standard deviation: 8147.2321066773975\n",
            "IQR: 3257.75\n"
          ]
        }
      ]
    },
    {
      "cell_type": "code",
      "source": [
        "mean = df['Total Days (V + XVIII + XIX + Unknown)'].mean()\n",
        "median = df['Total Days (V + XVIII + XIX + Unknown)'].median()\n",
        "mode = df['Total Days (V + XVIII + XIX + Unknown)'].mode()\n",
        "\n",
        "range = df['Total Days (V + XVIII + XIX + Unknown)'].max() - df['Total Days (V + XVIII + XIX + Unknown)'].min()\n",
        "variance = df['Total Days (V + XVIII + XIX + Unknown)'].var()\n",
        "standard_deviation = df['Total Days (V + XVIII + XIX + Unknown)'].std()\n",
        "iqr = df['Total Days (V + XVIII + XIX + Unknown)'].quantile(0.75) - df['Total Days (V + XVIII + XIX + Unknown)'].quantile(0.25)\n",
        "\n",
        "\n",
        "print('Mean:', mean)\n",
        "print('Median:', median)\n",
        "print('Mode:', mode)\n",
        "print('Range:', range)\n",
        "print('Variance:', variance)\n",
        "print('Standard deviation:', standard_deviation)\n",
        "print('IQR:', iqr)"
      ],
      "metadata": {
        "colab": {
          "base_uri": "https://localhost:8080/"
        },
        "id": "9dWA-cxiqkGP",
        "outputId": "581f46fc-c264-4878-fd71-f47df2ccab86"
      },
      "execution_count": 42,
      "outputs": [
        {
          "output_type": "stream",
          "name": "stdout",
          "text": [
            "Mean: 29905.93422796554\n",
            "Median: 11826.5\n",
            "Mode: 0     746.0\n",
            "1     802.0\n",
            "2     839.0\n",
            "3     867.0\n",
            "4    1936.0\n",
            "5    2475.0\n",
            "Name: Total Days (V + XVIII + XIX + Unknown), dtype: float64\n",
            "Range: 721703.0\n",
            "Variance: 2269834509.2004786\n",
            "Standard deviation: 47642.78024213615\n",
            "IQR: 33245.25\n"
          ]
        }
      ]
    },
    {
      "cell_type": "code",
      "source": [
        "mean = df['Number of Beds'].mean()\n",
        "median = df['Number of Beds'].median()\n",
        "mode = df['Number of Beds'].mode()\n",
        "\n",
        "range = df['Number of Beds'].max() - df['Number of Beds'].min()\n",
        "variance = df['Number of Beds'].var()\n",
        "standard_deviation = df['Number of Beds'].std()\n",
        "iqr = df['Number of Beds'].quantile(0.75) - df['Number of Beds'].quantile(0.25)\n",
        "\n",
        "\n",
        "print('Mean:', mean)\n",
        "print('Median:', median)\n",
        "print('Mode:', mode)\n",
        "print('Range:', range)\n",
        "print('Variance:', variance)\n",
        "print('Standard deviation:', standard_deviation)\n",
        "print('IQR:', iqr)"
      ],
      "metadata": {
        "colab": {
          "base_uri": "https://localhost:8080/"
        },
        "id": "zEiZLnbqq8Sm",
        "outputId": "a65e47f9-8f4d-4f22-b045-cdc9cd330ac2"
      },
      "execution_count": 43,
      "outputs": [
        {
          "output_type": "stream",
          "name": "stdout",
          "text": [
            "Mean: 146.50818858560794\n",
            "Median: 66.0\n",
            "Mode: 0    25.0\n",
            "Name: Number of Beds, dtype: float64\n",
            "Range: 52912.0\n",
            "Variance: 623408.6242297593\n",
            "Standard deviation: 789.5622991441267\n",
            "IQR: 146.0\n"
          ]
        }
      ]
    },
    {
      "cell_type": "code",
      "source": [
        "mean = df['Total Bed Days Available'].mean()\n",
        "median = df['Total Bed Days Available'].median()\n",
        "mode = df['Total Bed Days Available'].mode()\n",
        "\n",
        "range = df['Total Bed Days Available'].max() - df['Total Bed Days Available'].min()\n",
        "variance = df['Total Bed Days Available'].var()\n",
        "standard_deviation = df['Total Bed Days Available'].std()\n",
        "iqr = df['Total Bed Days Available'].quantile(0.75) - df['Total Bed Days Available'].quantile(0.25)\n",
        "\n",
        "\n",
        "print('Mean:', mean)\n",
        "print('Median:', median)\n",
        "print('Mode:', mode)\n",
        "print('Range:', range)\n",
        "print('Variance:', variance)\n",
        "print('Standard deviation:', standard_deviation)\n",
        "print('IQR:', iqr)"
      ],
      "metadata": {
        "colab": {
          "base_uri": "https://localhost:8080/"
        },
        "id": "znlwCbEErNmg",
        "outputId": "df3973f0-0507-4fa9-f51c-6426802910f5"
      },
      "execution_count": 44,
      "outputs": [
        {
          "output_type": "stream",
          "name": "stdout",
          "text": [
            "Mean: 47639.24416873449\n",
            "Median: 22692.0\n",
            "Mode: 0    9125.0\n",
            "Name: Total Bed Days Available, dtype: float64\n",
            "Range: 998085.0\n",
            "Variance: 3978977986.1802797\n",
            "Standard deviation: 63079.140658226155\n",
            "IQR: 52338.0\n"
          ]
        }
      ]
    },
    {
      "cell_type": "code",
      "source": [
        "mean = df['Total Discharges Title V'].mean()\n",
        "median = df['Total Discharges Title V'].median()\n",
        "mode = df['Total Discharges Title V'].mode()\n",
        "\n",
        "range = df['Total Discharges Title V'].max() - df['Total Discharges Title V'].min()\n",
        "variance = df['Total Discharges Title V'].var()\n",
        "standard_deviation = df['Total Discharges Title V'].std()\n",
        "iqr = df['Total Discharges Title V'].quantile(0.75) - df['Total Discharges Title V'].quantile(0.25)\n",
        "\n",
        "\n",
        "print('Mean:', mean)\n",
        "print('Median:', median)\n",
        "print('Mode:', mode)\n",
        "print('Range:', range)\n",
        "print('Variance:', variance)\n",
        "print('Standard deviation:', standard_deviation)\n",
        "print('IQR:', iqr)"
      ],
      "metadata": {
        "colab": {
          "base_uri": "https://localhost:8080/"
        },
        "id": "5hrPnGxVriUM",
        "outputId": "66e40908-239f-4f52-fd31-59cf1cfcc1ca"
      },
      "execution_count": 45,
      "outputs": [
        {
          "output_type": "stream",
          "name": "stdout",
          "text": [
            "Mean: 406.97206703910615\n",
            "Median: 146.0\n",
            "Mode: 0    1.0\n",
            "Name: Total Discharges Title V, dtype: float64\n",
            "Range: 2931.0\n",
            "Variance: 347241.60033896175\n",
            "Standard deviation: 589.2720936366848\n",
            "IQR: 558.5\n"
          ]
        }
      ]
    },
    {
      "cell_type": "code",
      "source": [
        "mean = df['Total Discharges Title XIX'].mean()\n",
        "median = df['Total Discharges Title XIX'].median()\n",
        "mode = df['Total Discharges Title XIX'].mode()\n",
        "\n",
        "range = df['Total Discharges Title XIX'].max() - df['Total Discharges Title XIX'].min()\n",
        "variance = df['Total Discharges Title XIX'].var()\n",
        "standard_deviation = df['Total Discharges Title XIX'].std()\n",
        "iqr = df['Total Discharges Title XIX'].quantile(0.75) - df['Total Discharges Title XIX'].quantile(0.25)\n",
        "\n",
        "\n",
        "print('Mean:', mean)\n",
        "print('Median:', median)\n",
        "print('Mode:', mode)\n",
        "print('Range:', range)\n",
        "print('Variance:', variance)\n",
        "print('Standard deviation:', standard_deviation)\n",
        "print('IQR:', iqr)"
      ],
      "metadata": {
        "colab": {
          "base_uri": "https://localhost:8080/"
        },
        "id": "p9-RREPNr_9C",
        "outputId": "4a7f5668-3971-4107-cba0-8c936fec2085"
      },
      "execution_count": 46,
      "outputs": [
        {
          "output_type": "stream",
          "name": "stdout",
          "text": [
            "Mean: 590.183572976167\n",
            "Median: 118.0\n",
            "Mode: 0    1.0\n",
            "Name: Total Discharges Title XIX, dtype: float64\n",
            "Range: 19637.0\n",
            "Variance: 1735055.2472241893\n",
            "Standard deviation: 1317.2149586245175\n",
            "IQR: 532.0\n"
          ]
        }
      ]
    },
    {
      "cell_type": "code",
      "source": [
        "mean = df['Total Days Title V + Total for all Subproviders'].mean()\n",
        "median = df['Total Days Title V + Total for all Subproviders'].median()\n",
        "mode = df['Total Days Title V + Total for all Subproviders'].mode()\n",
        "\n",
        "range = df['Total Days Title V + Total for all Subproviders'].max() - df['Total Days Title V + Total for all Subproviders'].min()\n",
        "variance = df['Total Days Title V + Total for all Subproviders'].var()\n",
        "standard_deviation = df['Total Days Title V + Total for all Subproviders'].std()\n",
        "iqr = df['Total Days Title V + Total for all Subproviders'].quantile(0.75) - df['Total Days Title V + Total for all Subproviders'].quantile(0.25)\n",
        "\n",
        "\n",
        "print('Mean:', mean)\n",
        "print('Median:', median)\n",
        "print('Mode:', mode)\n",
        "print('Range:', range)\n",
        "print('Variance:', variance)\n",
        "print('Standard deviation:', standard_deviation)\n",
        "print('IQR:', iqr)"
      ],
      "metadata": {
        "colab": {
          "base_uri": "https://localhost:8080/"
        },
        "id": "KWmwrmi2sPuK",
        "outputId": "ef996088-0775-41b2-8c52-a362298076dd"
      },
      "execution_count": 47,
      "outputs": [
        {
          "output_type": "stream",
          "name": "stdout",
          "text": [
            "Mean: 3316.273195876289\n",
            "Median: 1121.5\n",
            "Mode: 0    1.0\n",
            "1    3.0\n",
            "2    4.0\n",
            "Name: Total Days Title V + Total for all Subproviders, dtype: float64\n",
            "Range: 32090.0\n",
            "Variance: 30958806.48974414\n",
            "Standard deviation: 5564.063846663169\n",
            "IQR: 3715.25\n"
          ]
        }
      ]
    },
    {
      "cell_type": "code",
      "source": [
        "mean = df[''].mean()\n",
        "median = df['Total Discharges Title XIX'].median()\n",
        "mode = df['Total Discharges Title XIX'].mode()\n",
        "\n",
        "range = df['Total Discharges Title XIX'].max() - df['Total Discharges Title XIX'].min()\n",
        "variance = df['Total Discharges Title XIX'].var()\n",
        "standard_deviation = df['Total Discharges Title XIX'].std()\n",
        "iqr = df['Total Discharges Title XIX'].quantile(0.75) - df['Total Discharges Title XIX'].quantile(0.25)\n",
        "\n",
        "\n",
        "print('Mean:', mean)\n",
        "print('Median:', median)\n",
        "print('Mode:', mode)\n",
        "print('Range:', range)\n",
        "print('Variance:', variance)\n",
        "print('Standard deviation:', standard_deviation)\n",
        "print('IQR:', iqr)"
      ],
      "metadata": {
        "id": "zdtXtwTYslRc"
      },
      "execution_count": null,
      "outputs": []
    },
    {
      "cell_type": "markdown",
      "source": [
        "## Bivariate Analysis"
      ],
      "metadata": {
        "id": "W7LEPqb-uR9a"
      }
    },
    {
      "cell_type": "markdown",
      "source": [
        "## Handling Outliers"
      ],
      "metadata": {
        "id": "8YGLa8uZuY0w"
      }
    },
    {
      "cell_type": "markdown",
      "source": [
        "## Automated Analysis"
      ],
      "metadata": {
        "id": "pseA5Vpvucbb"
      }
    },
    {
      "cell_type": "code",
      "source": [
        "import pandas as pd\n",
        "from pandas_profiling import ProfileReport\n",
        "\n",
        "# Load your dataset\n",
        "data = pd.read_csv('/content/drive/MyDrive/Hospital_Cost_Report_2019.csv')\n",
        "\n",
        "# Generate the EDA report\n",
        "report = ProfileReport(data)\n",
        "report.to_file('eda_report.html')"
      ],
      "metadata": {
        "colab": {
          "base_uri": "https://localhost:8080/",
          "height": 393
        },
        "id": "IixBBwspumzq",
        "outputId": "a6e65d85-5be4-433e-b50b-4706d5f4537b"
      },
      "execution_count": 48,
      "outputs": [
        {
          "output_type": "error",
          "ename": "ModuleNotFoundError",
          "evalue": "ignored",
          "traceback": [
            "\u001b[0;31m---------------------------------------------------------------------------\u001b[0m",
            "\u001b[0;31mModuleNotFoundError\u001b[0m                       Traceback (most recent call last)",
            "\u001b[0;32m<ipython-input-48-be2d377d7630>\u001b[0m in \u001b[0;36m<cell line: 2>\u001b[0;34m()\u001b[0m\n\u001b[1;32m      1\u001b[0m \u001b[0;32mimport\u001b[0m \u001b[0mpandas\u001b[0m \u001b[0;32mas\u001b[0m \u001b[0mpd\u001b[0m\u001b[0;34m\u001b[0m\u001b[0;34m\u001b[0m\u001b[0m\n\u001b[0;32m----> 2\u001b[0;31m \u001b[0;32mfrom\u001b[0m \u001b[0mpandas_profiling\u001b[0m \u001b[0;32mimport\u001b[0m \u001b[0mProfileReport\u001b[0m\u001b[0;34m\u001b[0m\u001b[0;34m\u001b[0m\u001b[0m\n\u001b[0m\u001b[1;32m      3\u001b[0m \u001b[0;34m\u001b[0m\u001b[0m\n\u001b[1;32m      4\u001b[0m \u001b[0;31m# Load your dataset\u001b[0m\u001b[0;34m\u001b[0m\u001b[0;34m\u001b[0m\u001b[0m\n\u001b[1;32m      5\u001b[0m \u001b[0mdata\u001b[0m \u001b[0;34m=\u001b[0m \u001b[0mpd\u001b[0m\u001b[0;34m.\u001b[0m\u001b[0mread_csv\u001b[0m\u001b[0;34m(\u001b[0m\u001b[0;34m'/content/drive/MyDrive/Hospital_Cost_Report_2019.csv'\u001b[0m\u001b[0;34m)\u001b[0m\u001b[0;34m\u001b[0m\u001b[0;34m\u001b[0m\u001b[0m\n",
            "\u001b[0;31mModuleNotFoundError\u001b[0m: No module named 'pandas_profiling'",
            "",
            "\u001b[0;31m---------------------------------------------------------------------------\u001b[0;32m\nNOTE: If your import is failing due to a missing package, you can\nmanually install dependencies using either !pip or !apt.\n\nTo view examples of installing some common dependencies, click the\n\"Open Examples\" button below.\n\u001b[0;31m---------------------------------------------------------------------------\u001b[0m\n"
          ],
          "errorDetails": {
            "actions": [
              {
                "action": "open_url",
                "actionText": "Open Examples",
                "url": "/notebooks/snippets/importing_libraries.ipynb"
              }
            ]
          }
        }
      ]
    }
  ]
}