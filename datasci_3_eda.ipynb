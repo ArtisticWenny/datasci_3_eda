{
  "nbformat": 4,
  "nbformat_minor": 0,
  "metadata": {
    "colab": {
      "provenance": [],
      "authorship_tag": "ABX9TyMOQHu4AJZ2wWa9pQ+k7y6o",
      "include_colab_link": true
    },
    "kernelspec": {
      "name": "python3",
      "display_name": "Python 3"
    },
    "language_info": {
      "name": "python"
    }
  },
  "cells": [
    {
      "cell_type": "markdown",
      "metadata": {
        "id": "view-in-github",
        "colab_type": "text"
      },
      "source": [
        "<a href=\"https://colab.research.google.com/github/ArtisticWenny/datasci_3_eda/blob/main/datasci_3_eda.ipynb\" target=\"_parent\"><img src=\"https://colab.research.google.com/assets/colab-badge.svg\" alt=\"Open In Colab\"/></a>"
      ]
    },
    {
      "cell_type": "markdown",
      "source": [
        "Import Google Drive"
      ],
      "metadata": {
        "id": "WCUYHDrU9LhF"
      }
    },
    {
      "cell_type": "code",
      "execution_count": 9,
      "metadata": {
        "colab": {
          "base_uri": "https://localhost:8080/"
        },
        "id": "xmePF_Mqw6Nz",
        "outputId": "edf70a09-04b7-43e0-a5ee-d2ad0592c1a9"
      },
      "outputs": [
        {
          "output_type": "stream",
          "name": "stdout",
          "text": [
            "Mounted at /content/drive\n"
          ]
        }
      ],
      "source": [
        "from google.colab import drive\n",
        "\n",
        "drive.mount('/content/drive')"
      ]
    },
    {
      "cell_type": "markdown",
      "source": [
        "Load in packages and Load in data"
      ],
      "metadata": {
        "id": "G6VPiWStkyxE"
      }
    },
    {
      "cell_type": "code",
      "source": [
        "import pandas as pd\n",
        "\n",
        "csv_file_path = ['/content/drive/MyDrive/Hospital_Cost_Report_2019.csv']\n",
        "\n",
        "df = pd.read_csv('/content/drive/MyDrive/Hospital_Cost_Report_2019.csv')\n",
        "\n",
        "print(df.head)"
      ],
      "metadata": {
        "id": "otqQi4c79wIk"
      },
      "execution_count": null,
      "outputs": []
    },
    {
      "cell_type": "code",
      "source": [
        "df.shape\n",
        "df.columns"
      ],
      "metadata": {
        "id": "WyEJiUhslcBJ"
      },
      "execution_count": null,
      "outputs": []
    },
    {
      "cell_type": "markdown",
      "source": [
        " Calculate measures of central tendency"
      ],
      "metadata": {
        "id": "xRoIyTQUhSK-"
      }
    },
    {
      "cell_type": "markdown",
      "source": [],
      "metadata": {
        "id": "KsuF-EC5hZkU"
      }
    },
    {
      "cell_type": "code",
      "source": [
        "df['rpt_rec_num'].nunique()\n"
      ],
      "metadata": {
        "id": "bbqF8Joamm6g"
      },
      "execution_count": null,
      "outputs": []
    },
    {
      "cell_type": "markdown",
      "source": [
        "Looking for missingness"
      ],
      "metadata": {
        "id": "4la16w4Roz1-"
      }
    },
    {
      "cell_type": "code",
      "source": [
        "df.sample(10)\n",
        "df.isnull()\n",
        "\n",
        "percentmissing = pd.DataFrame(df.isnull().sum()).reset_index()\n",
        "print(percentmissing)\n",
        "\n",
        "percentmissing.rename(columns = {'index':'variable', 0:'count_missing'})\n"
      ],
      "metadata": {
        "id": "erfICUwuo2qy"
      },
      "execution_count": null,
      "outputs": []
    },
    {
      "cell_type": "code",
      "source": [
        "df ['Hospital Name'].value_counts()"
      ],
      "metadata": {
        "id": "QgrWw3TWwNBR"
      },
      "execution_count": null,
      "outputs": []
    },
    {
      "cell_type": "code",
      "source": [
        "df.describe()"
      ],
      "metadata": {
        "id": "jH-vJY4twZhY"
      },
      "execution_count": null,
      "outputs": []
    },
    {
      "cell_type": "markdown",
      "source": [
        "## Converting variables"
      ],
      "metadata": {
        "id": "PAidyTXYxmMA"
      }
    },
    {
      "cell_type": "code",
      "source": [
        "df['rpt_rec_num'] = df ['rpt_rec_num'].astype(str)\n",
        "df.describe()"
      ],
      "metadata": {
        "id": "9RcJGxtWxJBH"
      },
      "execution_count": null,
      "outputs": []
    },
    {
      "cell_type": "code",
      "source": [
        "df['Provider CCN'] = df ['Provider CCN'].astype(str)\n",
        "df.describe()"
      ],
      "metadata": {
        "id": "REA95lgayJLu"
      },
      "execution_count": null,
      "outputs": []
    },
    {
      "cell_type": "code",
      "source": [
        "df['Medicare CBSA Number'] = df ['Medicare CBSA Number'].astype(str)\n",
        "df.describe()"
      ],
      "metadata": {
        "id": "eqBIr72PygYl"
      },
      "execution_count": null,
      "outputs": []
    },
    {
      "cell_type": "code",
      "source": [
        "df['Provider Type'] = df ['Provider Type'].astype(str)\n",
        "df.describe()"
      ],
      "metadata": {
        "id": "16uOvhxmytDc"
      },
      "execution_count": null,
      "outputs": []
    },
    {
      "cell_type": "code",
      "source": [
        "df['Type of Control'] = df ['Type of Control'].astype(str)\n",
        "df.describe()"
      ],
      "metadata": {
        "id": "VntkTyiOyzAi"
      },
      "execution_count": null,
      "outputs": []
    },
    {
      "cell_type": "code",
      "source": [
        "df['Fiscal Year End Date'] = df ['Fiscal Year End Date'].astype(str)\n",
        "df.describe()"
      ],
      "metadata": {
        "id": "NZkpv9h9kHg6"
      },
      "execution_count": null,
      "outputs": []
    },
    {
      "cell_type": "markdown",
      "source": [
        "## Univariate Analysis"
      ],
      "metadata": {
        "id": "gZPOcj6tl7t5"
      }
    },
    {
      "cell_type": "code",
      "source": [
        "mean = df['FTE - Employees on Payroll'].mean()\n",
        "median = df['FTE - Employees on Payroll'].median()\n",
        "mode = df['FTE - Employees on Payroll'].mode()\n",
        "\n",
        "\n",
        "range = df['FTE - Employees on Payroll'].max() - df['FTE - Employees on Payroll'].min()\n",
        "variance = df['FTE - Employees on Payroll'].var()\n",
        "standard_deviation = df['FTE - Employees on Payroll'].std()\n",
        "iqr = df['FTE - Employees on Payroll'].quantile(0.75) - df['FTE - Employees on Payroll'].quantile(0.25)\n",
        "\n",
        "\n",
        "print('Mean:', mean)\n",
        "print('Median:', median)\n",
        "print('Mode:', mode)\n",
        "print('Range:', range)\n",
        "print('Variance:', variance)\n",
        "print('Standard deviation:', standard_deviation)\n",
        "print('IQR:', iqr)\n",
        "\n"
      ],
      "metadata": {
        "colab": {
          "base_uri": "https://localhost:8080/"
        },
        "id": "95D5atYNmKpP",
        "outputId": "d50e4eb0-152d-4ce5-9c8d-78ca3894c0c5"
      },
      "execution_count": 37,
      "outputs": [
        {
          "output_type": "stream",
          "name": "stdout",
          "text": [
            "Mean: 847.6364643272909\n",
            "Median: 293.75\n",
            "Mode: 0    67.0\n",
            "1    72.0\n",
            "Name: FTE - Employees on Payroll, dtype: float64\n",
            "Range: 27421.37\n",
            "Variance: 2560706.535913977\n",
            "Standard deviation: 1600.2207772410584\n",
            "IQR: 777.14\n"
          ]
        }
      ]
    },
    {
      "cell_type": "code",
      "source": [
        "mean = df['Number of Interns and Residents (FTE)'].mean()\n",
        "median = df['Number of Interns and Residents (FTE)'].median()\n",
        "mode = df['Number of Interns and Residents (FTE)'].mode()\n",
        "\n",
        "range = df['Number of Interns and Residents (FTE)'].max() - df['Number of Interns and Residents (FTE)'].min()\n",
        "variance = df['Number of Interns and Residents (FTE)'].var()\n",
        "standard_deviation = df['Number of Interns and Residents (FTE)'].std()\n",
        "iqr = df['Number of Interns and Residents (FTE)'].quantile(0.75) - df['Number of Interns and Residents (FTE)'].quantile(0.25)\n",
        "\n",
        "\n",
        "print('Mean:', mean)\n",
        "print('Median:', median)\n",
        "print('Mode:', mode)\n",
        "print('Range:', range)\n",
        "print('Variance:', variance)\n",
        "print('Standard deviation:', standard_deviation)\n",
        "print('IQR:', iqr)"
      ],
      "metadata": {
        "colab": {
          "base_uri": "https://localhost:8080/"
        },
        "id": "KoLyALyuma4I",
        "outputId": "6f9ee347-4325-45a5-81f7-dcd88606dcfd"
      },
      "execution_count": 38,
      "outputs": [
        {
          "output_type": "stream",
          "name": "stdout",
          "text": [
            "Mean: 92.6017512508935\n",
            "Median: 26.66\n",
            "Mode: 0    1.0\n",
            "Name: Number of Interns and Residents (FTE), dtype: float64\n",
            "Range: 1615.32\n",
            "Variance: 25932.825572682\n",
            "Standard deviation: 161.0367211932794\n",
            "IQR: 90.335\n"
          ]
        }
      ]
    },
    {
      "cell_type": "code",
      "source": [
        "mean = df['Total Days Title V'].mean()\n",
        "median = df['Total Days Title V'].median()\n",
        "mode = df['Total Days Title V'].mode()\n",
        "\n",
        "range = df['Total Days Title V'].max() - df['Total Days Title V'].min()\n",
        "variance = df['Total Days Title V'].var()\n",
        "standard_deviation = df['Total Days Title V'].std()\n",
        "iqr = df['Total Days Title V'].quantile(0.75) - df['Total Days Title V'].quantile(0.25)\n",
        "\n",
        "\n",
        "print('Mean:', mean)\n",
        "print('Median:', median)\n",
        "print('Mode:', mode)\n",
        "print('Range:', range)\n",
        "print('Variance:', variance)\n",
        "print('Standard deviation:', standard_deviation)\n",
        "print('IQR:', iqr)"
      ],
      "metadata": {
        "colab": {
          "base_uri": "https://localhost:8080/"
        },
        "id": "HkLkEWdbmvsB",
        "outputId": "065964b5-0b2b-4415-e81a-496a18654f52"
      },
      "execution_count": 39,
      "outputs": [
        {
          "output_type": "stream",
          "name": "stdout",
          "text": [
            "Mean: 1888.047619047619\n",
            "Median: 514.0\n",
            "Mode: 0    3.0\n",
            "1    4.0\n",
            "Name: Total Days Title V, dtype: float64\n",
            "Range: 32090.0\n",
            "Variance: 13632616.992401216\n",
            "Standard deviation: 3692.2373965390166\n",
            "IQR: 2262.0\n"
          ]
        }
      ]
    },
    {
      "cell_type": "code",
      "source": [
        "mean = df['Total Days Title XVIII'].mean()\n",
        "median = df['Total Days Title XVIII'].median()\n",
        "mode = df['Total Days Title XVIII'].mode()\n",
        "\n",
        "range = df['Total Days Title XVIII'].max() - df['Total Days Title XVIII'].min()\n",
        "variance = df['Total Days Title XVIII'].var()\n",
        "standard_deviation = df['Total Days Title XVIII'].std()\n",
        "iqr = df['Total Days Title XVIII'].quantile(0.75) - df['Total Days Title XVIII'].quantile(0.25)\n",
        "\n",
        "\n",
        "print('Mean:', mean)\n",
        "print('Median:', median)\n",
        "print('Mode:', mode)\n",
        "print('Range:', range)\n",
        "print('Variance:', variance)\n",
        "print('Standard deviation:', standard_deviation)\n",
        "print('IQR:', iqr)"
      ],
      "metadata": {
        "colab": {
          "base_uri": "https://localhost:8080/"
        },
        "id": "b4LR-5KUm6BK",
        "outputId": "5c1ecb50-e8cc-4670-be93-feaaf9f5049d"
      },
      "execution_count": 40,
      "outputs": [
        {
          "output_type": "stream",
          "name": "stdout",
          "text": [
            "Mean: 8676.068291868425\n",
            "Median: 3436.0\n",
            "Mode: 0    464.0\n",
            "1    638.0\n",
            "Name: Total Days Title XVIII, dtype: float64\n",
            "Range: 193047.0\n",
            "Variance: 175572168.66116711\n",
            "Standard deviation: 13250.364850115151\n",
            "IQR: 9319.0\n"
          ]
        }
      ]
    },
    {
      "cell_type": "code",
      "source": [
        "mean = df['Total Days Title XIX'].mean()\n",
        "median = df['Total Days Title XIX'].median()\n",
        "mode = df['Total Days Title XIX'].mode()\n",
        "\n",
        "range = df['Total Days Title XIX'].max() - df['Total Days Title XIX'].min()\n",
        "variance = df['Total Days Title XIX'].var()\n",
        "standard_deviation = df['Total Days Title XIX'].std()\n",
        "iqr = df['Total Days Title XIX'].quantile(0.75) - df['Total Days Title XIX'].quantile(0.25)\n",
        "\n",
        "\n",
        "print('Mean:', mean)\n",
        "print('Median:', median)\n",
        "print('Mode:', mode)\n",
        "print('Range:', range)\n",
        "print('Variance:', variance)\n",
        "print('Standard deviation:', standard_deviation)\n",
        "print('IQR:', iqr)"
      ],
      "metadata": {
        "colab": {
          "base_uri": "https://localhost:8080/"
        },
        "id": "1t7pbH4QqPrC",
        "outputId": "c8eff19a-bb3c-4b64-b5d3-f47467a4d445"
      },
      "execution_count": 41,
      "outputs": [
        {
          "output_type": "stream",
          "name": "stdout",
          "text": [
            "Mean: 3527.2851592851594\n",
            "Median: 754.0\n",
            "Mode: 0    2.0\n",
            "Name: Total Days Title XIX, dtype: float64\n",
            "Range: 178049.0\n",
            "Variance: 66377391.00007503\n",
            "Standard deviation: 8147.2321066773975\n",
            "IQR: 3257.75\n"
          ]
        }
      ]
    },
    {
      "cell_type": "code",
      "source": [
        "mean = df['Total Days (V + XVIII + XIX + Unknown)'].mean()\n",
        "median = df['Total Days (V + XVIII + XIX + Unknown)'].median()\n",
        "mode = df['Total Days (V + XVIII + XIX + Unknown)'].mode()\n",
        "\n",
        "range = df['Total Days (V + XVIII + XIX + Unknown)'].max() - df['Total Days (V + XVIII + XIX + Unknown)'].min()\n",
        "variance = df['Total Days (V + XVIII + XIX + Unknown)'].var()\n",
        "standard_deviation = df['Total Days (V + XVIII + XIX + Unknown)'].std()\n",
        "iqr = df['Total Days (V + XVIII + XIX + Unknown)'].quantile(0.75) - df['Total Days (V + XVIII + XIX + Unknown)'].quantile(0.25)\n",
        "\n",
        "\n",
        "print('Mean:', mean)\n",
        "print('Median:', median)\n",
        "print('Mode:', mode)\n",
        "print('Range:', range)\n",
        "print('Variance:', variance)\n",
        "print('Standard deviation:', standard_deviation)\n",
        "print('IQR:', iqr)"
      ],
      "metadata": {
        "colab": {
          "base_uri": "https://localhost:8080/"
        },
        "id": "9dWA-cxiqkGP",
        "outputId": "581f46fc-c264-4878-fd71-f47df2ccab86"
      },
      "execution_count": 42,
      "outputs": [
        {
          "output_type": "stream",
          "name": "stdout",
          "text": [
            "Mean: 29905.93422796554\n",
            "Median: 11826.5\n",
            "Mode: 0     746.0\n",
            "1     802.0\n",
            "2     839.0\n",
            "3     867.0\n",
            "4    1936.0\n",
            "5    2475.0\n",
            "Name: Total Days (V + XVIII + XIX + Unknown), dtype: float64\n",
            "Range: 721703.0\n",
            "Variance: 2269834509.2004786\n",
            "Standard deviation: 47642.78024213615\n",
            "IQR: 33245.25\n"
          ]
        }
      ]
    },
    {
      "cell_type": "code",
      "source": [
        "mean = df['Number of Beds'].mean()\n",
        "median = df['Number of Beds'].median()\n",
        "mode = df['Number of Beds'].mode()\n",
        "\n",
        "range = df['Number of Beds'].max() - df['Number of Beds'].min()\n",
        "variance = df['Number of Beds'].var()\n",
        "standard_deviation = df['Number of Beds'].std()\n",
        "iqr = df['Number of Beds'].quantile(0.75) - df['Number of Beds'].quantile(0.25)\n",
        "\n",
        "\n",
        "print('Mean:', mean)\n",
        "print('Median:', median)\n",
        "print('Mode:', mode)\n",
        "print('Range:', range)\n",
        "print('Variance:', variance)\n",
        "print('Standard deviation:', standard_deviation)\n",
        "print('IQR:', iqr)"
      ],
      "metadata": {
        "colab": {
          "base_uri": "https://localhost:8080/"
        },
        "id": "zEiZLnbqq8Sm",
        "outputId": "a65e47f9-8f4d-4f22-b045-cdc9cd330ac2"
      },
      "execution_count": 43,
      "outputs": [
        {
          "output_type": "stream",
          "name": "stdout",
          "text": [
            "Mean: 146.50818858560794\n",
            "Median: 66.0\n",
            "Mode: 0    25.0\n",
            "Name: Number of Beds, dtype: float64\n",
            "Range: 52912.0\n",
            "Variance: 623408.6242297593\n",
            "Standard deviation: 789.5622991441267\n",
            "IQR: 146.0\n"
          ]
        }
      ]
    },
    {
      "cell_type": "code",
      "source": [
        "mean = df['Total Bed Days Available'].mean()\n",
        "median = df['Total Bed Days Available'].median()\n",
        "mode = df['Total Bed Days Available'].mode()\n",
        "\n",
        "range = df['Total Bed Days Available'].max() - df['Total Bed Days Available'].min()\n",
        "variance = df['Total Bed Days Available'].var()\n",
        "standard_deviation = df['Total Bed Days Available'].std()\n",
        "iqr = df['Total Bed Days Available'].quantile(0.75) - df['Total Bed Days Available'].quantile(0.25)\n",
        "\n",
        "\n",
        "print('Mean:', mean)\n",
        "print('Median:', median)\n",
        "print('Mode:', mode)\n",
        "print('Range:', range)\n",
        "print('Variance:', variance)\n",
        "print('Standard deviation:', standard_deviation)\n",
        "print('IQR:', iqr)"
      ],
      "metadata": {
        "colab": {
          "base_uri": "https://localhost:8080/"
        },
        "id": "znlwCbEErNmg",
        "outputId": "df3973f0-0507-4fa9-f51c-6426802910f5"
      },
      "execution_count": 44,
      "outputs": [
        {
          "output_type": "stream",
          "name": "stdout",
          "text": [
            "Mean: 47639.24416873449\n",
            "Median: 22692.0\n",
            "Mode: 0    9125.0\n",
            "Name: Total Bed Days Available, dtype: float64\n",
            "Range: 998085.0\n",
            "Variance: 3978977986.1802797\n",
            "Standard deviation: 63079.140658226155\n",
            "IQR: 52338.0\n"
          ]
        }
      ]
    },
    {
      "cell_type": "code",
      "source": [
        "mean = df['Total Discharges Title V'].mean()\n",
        "median = df['Total Discharges Title V'].median()\n",
        "mode = df['Total Discharges Title V'].mode()\n",
        "\n",
        "range = df['Total Discharges Title V'].max() - df['Total Discharges Title V'].min()\n",
        "variance = df['Total Discharges Title V'].var()\n",
        "standard_deviation = df['Total Discharges Title V'].std()\n",
        "iqr = df['Total Discharges Title V'].quantile(0.75) - df['Total Discharges Title V'].quantile(0.25)\n",
        "\n",
        "\n",
        "print('Mean:', mean)\n",
        "print('Median:', median)\n",
        "print('Mode:', mode)\n",
        "print('Range:', range)\n",
        "print('Variance:', variance)\n",
        "print('Standard deviation:', standard_deviation)\n",
        "print('IQR:', iqr)"
      ],
      "metadata": {
        "colab": {
          "base_uri": "https://localhost:8080/"
        },
        "id": "5hrPnGxVriUM",
        "outputId": "66e40908-239f-4f52-fd31-59cf1cfcc1ca"
      },
      "execution_count": 45,
      "outputs": [
        {
          "output_type": "stream",
          "name": "stdout",
          "text": [
            "Mean: 406.97206703910615\n",
            "Median: 146.0\n",
            "Mode: 0    1.0\n",
            "Name: Total Discharges Title V, dtype: float64\n",
            "Range: 2931.0\n",
            "Variance: 347241.60033896175\n",
            "Standard deviation: 589.2720936366848\n",
            "IQR: 558.5\n"
          ]
        }
      ]
    },
    {
      "cell_type": "code",
      "source": [
        "mean = df['Total Discharges Title XIX'].mean()\n",
        "median = df['Total Discharges Title XIX'].median()\n",
        "mode = df['Total Discharges Title XIX'].mode()\n",
        "\n",
        "range = df['Total Discharges Title XIX'].max() - df['Total Discharges Title XIX'].min()\n",
        "variance = df['Total Discharges Title XIX'].var()\n",
        "standard_deviation = df['Total Discharges Title XIX'].std()\n",
        "iqr = df['Total Discharges Title XIX'].quantile(0.75) - df['Total Discharges Title XIX'].quantile(0.25)\n",
        "\n",
        "\n",
        "print('Mean:', mean)\n",
        "print('Median:', median)\n",
        "print('Mode:', mode)\n",
        "print('Range:', range)\n",
        "print('Variance:', variance)\n",
        "print('Standard deviation:', standard_deviation)\n",
        "print('IQR:', iqr)"
      ],
      "metadata": {
        "id": "p9-RREPNr_9C"
      },
      "execution_count": null,
      "outputs": []
    },
    {
      "cell_type": "code",
      "source": [
        "mean = df['Total Days Title V + Total for all Subproviders'].mean()\n",
        "median = df['Total Days Title V + Total for all Subproviders'].median()\n",
        "mode = df['Total Days Title V + Total for all Subproviders'].mode()\n",
        "\n",
        "range = df['Total Days Title V + Total for all Subproviders'].max() - df['Total Days Title V + Total for all Subproviders'].min()\n",
        "variance = df['Total Days Title V + Total for all Subproviders'].var()\n",
        "standard_deviation = df['Total Days Title V + Total for all Subproviders'].std()\n",
        "iqr = df['Total Days Title V + Total for all Subproviders'].quantile(0.75) - df['Total Days Title V + Total for all Subproviders'].quantile(0.25)\n",
        "\n",
        "\n",
        "print('Mean:', mean)\n",
        "print('Median:', median)\n",
        "print('Mode:', mode)\n",
        "print('Range:', range)\n",
        "print('Variance:', variance)\n",
        "print('Standard deviation:', standard_deviation)\n",
        "print('IQR:', iqr)"
      ],
      "metadata": {
        "id": "KWmwrmi2sPuK"
      },
      "execution_count": null,
      "outputs": []
    },
    {
      "cell_type": "code",
      "source": [
        "mean = df['Total Days Title XVIII + Total for all Subproviders'].mean()\n",
        "median = df['Total Days Title XVIII + Total for all Subproviders'].median()\n",
        "mode = df['Total Days Title XVIII + Total for all Subproviders'].mode()\n",
        "\n",
        "range = df['Total Days Title XVIII + Total for all Subproviders'].max() - df['Total Days Title XVIII + Total for all Subproviders'].min()\n",
        "variance = df['Total Days Title XVIII + Total for all Subproviders'].var()\n",
        "standard_deviation = df['Total Days Title XVIII + Total for all Subproviders'].std()\n",
        "iqr = df['Total Days Title XVIII + Total for all Subproviders'].quantile(0.75) - df['Total Days Title XVIII + Total for all Subproviders'].quantile(0.25)\n",
        "\n",
        "\n",
        "print('Mean:', mean)\n",
        "print('Median:', median)\n",
        "print('Mode:', mode)\n",
        "print('Range:', range)\n",
        "print('Variance:', variance)\n",
        "print('Standard deviation:', standard_deviation)\n",
        "print('IQR:', iqr)"
      ],
      "metadata": {
        "id": "zdtXtwTYslRc"
      },
      "execution_count": null,
      "outputs": []
    },
    {
      "cell_type": "code",
      "source": [
        "mean = df['Total Days Title XIX + Total for all Subproviders'].mean()\n",
        "median = df['Total Discharges Title XIX + Total for all Subproviders'].median()\n",
        "mode = df['Total Discharges Title XIX + Total for all Subproviders'].mode()\n",
        "\n",
        "range = df['Total Discharges Title XIX + Total for all Subproviders'].max() - df['Total Discharges Title XIX + Total for all Subproviders'].min()\n",
        "variance = df['Total Discharges Title XIX + Total for all Subproviders'].var()\n",
        "standard_deviation = df['Total Discharges Title XIX + Total for all Subproviders'].std()\n",
        "iqr = df['Total Discharges Title XIX + Total for all Subproviders'].quantile(0.75) - df['Total Discharges Title XIX + Total for all Subproviders'].quantile(0.25)\n",
        "\n",
        "\n",
        "print('Mean:', mean)\n",
        "print('Median:', median)\n",
        "print('Mode:', mode)\n",
        "print('Range:', range)\n",
        "print('Variance:', variance)\n",
        "print('Standard deviation:', standard_deviation)\n",
        "print('IQR:', iqr)"
      ],
      "metadata": {
        "id": "FyX8QJ2fxv9I"
      },
      "execution_count": null,
      "outputs": []
    },
    {
      "cell_type": "code",
      "source": [
        "mean = df['Total Days (V + XVIII + XIX + Unknown) + Total for all Subproviders'].mean()\n",
        "median = df['Total Days (V + XVIII + XIX + Unknown) + Total for all Subproviders'].median()\n",
        "mode = df['Total Days (V + XVIII + XIX + Unknown) + Total for all Subproviders'].mode()\n",
        "\n",
        "range = df['Total Days (V + XVIII + XIX + Unknown) + Total for all Subproviders'].max() - df['Total Days (V + XVIII + XIX + Unknown) + Total for all Subproviders'].min()\n",
        "variance = df['Total Days (V + XVIII + XIX + Unknown) + Total for all Subproviders'].var()\n",
        "standard_deviation = df['Total Days (V + XVIII + XIX + Unknown) + Total for all Subproviders'].std()\n",
        "iqr = df['Total Days (V + XVIII + XIX + Unknown) + Total for all Subproviders'].quantile(0.75) - df['Total Days (V + XVIII + XIX + Unknown) + Total for all Subproviders'].quantile(0.25)\n",
        "\n",
        "\n",
        "print('Mean:', mean)\n",
        "print('Median:', median)\n",
        "print('Mode:', mode)\n",
        "print('Range:', range)\n",
        "print('Variance:', variance)\n",
        "print('Standard deviation:', standard_deviation)\n",
        "print('IQR:', iqr)"
      ],
      "metadata": {
        "id": "RUx8jykeySua"
      },
      "execution_count": null,
      "outputs": []
    },
    {
      "cell_type": "code",
      "source": [
        "mean = df['Number of Beds + Total for all Subproviders'].mean()\n",
        "median = df['Number of Beds + Total for all Subproviders'].median()\n",
        "mode = df['Number of Beds + Total for all Subproviders'].mode()\n",
        "\n",
        "range = df['Number of Beds + Total for all Subproviders'].max() - df['Number of Beds + Total for all Subproviders'].min()\n",
        "variance = df['Number of Beds + Total for all Subproviders'].var()\n",
        "standard_deviation = df['Number of Beds + Total for all Subproviders'].std()\n",
        "iqr = df['Number of Beds + Total for all Subproviders'].quantile(0.75) - df['Number of Beds + Total for all Subproviders'].quantile(0.25)\n",
        "\n",
        "\n",
        "print('Mean:', mean)\n",
        "print('Median:', median)\n",
        "print('Mode:', mode)\n",
        "print('Range:', range)\n",
        "print('Variance:', variance)\n",
        "print('Standard deviation:', standard_deviation)\n",
        "print('IQR:', iqr)"
      ],
      "metadata": {
        "id": "MhwJhHmvynZD"
      },
      "execution_count": null,
      "outputs": []
    },
    {
      "cell_type": "code",
      "source": [
        "mean = df['Total Bed Days Available + Total for all Subproviders'].mean()\n",
        "median = df['Total Bed Days Available + Total for all Subproviders'].median()\n",
        "mode = df['Total Bed Days Available + Total for all Subproviders'].mode()\n",
        "\n",
        "range = df['Total Bed Days Available + Total for all Subproviders'].max() - df['Total Bed Days Available + Total for all Subproviders'].min()\n",
        "variance = df['Total Bed Days Available + Total for all Subproviders'].var()\n",
        "standard_deviation = df['Total Bed Days Available + Total for all Subproviders'].std()\n",
        "iqr = df['Total Bed Days Available + Total for all Subproviders'].quantile(0.75) - df['Total Bed Days Available + Total for all Subproviders'].quantile(0.25)\n",
        "\n",
        "\n",
        "print('Mean:', mean)\n",
        "print('Median:', median)\n",
        "print('Mode:', mode)\n",
        "print('Range:', range)\n",
        "print('Variance:', variance)\n",
        "print('Standard deviation:', standard_deviation)\n",
        "print('IQR:', iqr)"
      ],
      "metadata": {
        "id": "0crpPg5HynfE"
      },
      "execution_count": null,
      "outputs": []
    },
    {
      "cell_type": "code",
      "source": [
        "mean = df['Total Discharges Title V + Total for all Subproviders'].mean()\n",
        "median = df['Total Discharges Title V + Total for all Subproviders'].median()\n",
        "mode = df['Total Discharges Title V + Total for all Subproviders'].mode()\n",
        "\n",
        "range = df['Total Discharges Title V + Total for all Subproviders'].max() - df['Total Discharges Title V + Total for all Subproviders'].min()\n",
        "variance = df['Total Discharges Title V + Total for all Subproviders'].var()\n",
        "standard_deviation = df['Total Discharges Title V + Total for all Subproviders'].std()\n",
        "iqr = df['Total Discharges Title V + Total for all Subproviders'].quantile(0.75) - df['Total Discharges Title V + Total for all Subproviders'].quantile(0.25)\n",
        "\n",
        "\n",
        "print('Mean:', mean)\n",
        "print('Median:', median)\n",
        "print('Mode:', mode)\n",
        "print('Range:', range)\n",
        "print('Variance:', variance)\n",
        "print('Standard deviation:', standard_deviation)\n",
        "print('IQR:', iqr)"
      ],
      "metadata": {
        "id": "uxq05olUynjn"
      },
      "execution_count": null,
      "outputs": []
    },
    {
      "cell_type": "code",
      "source": [
        "mean = df['Total Discharges Title XVIII + Total for all Subproviders'].mean()\n",
        "median = df['Total Discharges Title XVIII + Total for all Subproviders'].median()\n",
        "mode = df['Total Discharges Title XVIII + Total for all Subproviders'].mode()\n",
        "\n",
        "range = df['Total Discharges Title XVIII + Total for all Subproviders'].max() - df['Total Discharges Title XVIII + Total for all Subproviders'].min()\n",
        "variance = df['Total Discharges Title XVIII + Total for all Subproviders'].var()\n",
        "standard_deviation = df['Total Discharges Title XVIII + Total for all Subproviders'].std()\n",
        "iqr = df['Total Discharges Title XVIII + Total for all Subproviders'].quantile(0.75) - df['Total Discharges Title XVIII + Total for all Subproviders'].quantile(0.25)\n",
        "\n",
        "\n",
        "print('Mean:', mean)\n",
        "print('Median:', median)\n",
        "print('Mode:', mode)\n",
        "print('Range:', range)\n",
        "print('Variance:', variance)\n",
        "print('Standard deviation:', standard_deviation)\n",
        "print('IQR:', iqr)"
      ],
      "metadata": {
        "id": "AHSDr4lRypYj"
      },
      "execution_count": null,
      "outputs": []
    },
    {
      "cell_type": "code",
      "source": [
        "mean = df['Total Discharges Title XIX + Total for all Subproviders'].mean()\n",
        "median = df['Total Discharges Title XIX + Total for all Subproviders'].median()\n",
        "mode = df['Total Discharges Title XIX + Total for all Subproviders'].mode()\n",
        "\n",
        "range = df['Total Discharges Title XIX + Total for all Subproviders'].max() - df['Total Discharges Title XIX + Total for all Subproviders'].min()\n",
        "variance = df['Total Discharges Title XIX + Total for all Subproviders'].var()\n",
        "standard_deviation = df['Total Discharges Title XIX + Total for all Subproviders'].std()\n",
        "iqr = df['Total Discharges Title XIX + Total for all Subproviders'].quantile(0.75) - df['Total Discharges Title XIX + Total for all Subproviders'].quantile(0.25)\n",
        "\n",
        "\n",
        "print('Mean:', mean)\n",
        "print('Median:', median)\n",
        "print('Mode:', mode)\n",
        "print('Range:', range)\n",
        "print('Variance:', variance)\n",
        "print('Standard deviation:', standard_deviation)\n",
        "print('IQR:', iqr)"
      ],
      "metadata": {
        "id": "wIZv13PiypbC"
      },
      "execution_count": null,
      "outputs": []
    },
    {
      "cell_type": "code",
      "source": [
        "mean = df['Total Discharges (V + XVIII + XIX + Unknown) + Total for all Subproviders'].mean()\n",
        "median = df['Total Discharges (V + XVIII + XIX + Unknown) + Total for all Subproviders'].median()\n",
        "mode = df['Total Discharges (V + XVIII + XIX + Unknown) + Total for all Subproviders'].mode()\n",
        "\n",
        "range = df['Total Discharges (V + XVIII + XIX + Unknown) + Total for all Subproviders'].max() - df['Total Discharges (V + XVIII + XIX + Unknown) + Total for all Subproviders'].min()\n",
        "variance = df['Total Discharges (V + XVIII + XIX + Unknown) + Total for all Subproviders'].var()\n",
        "standard_deviation = df['Total Discharges (V + XVIII + XIX + Unknown) + Total for all Subproviders'].std()\n",
        "iqr = df['Total Discharges (V + XVIII + XIX + Unknown) + Total for all Subproviders'].quantile(0.75) - df['Total Discharges (V + XVIII + XIX + Unknown) + Total for all Subproviders'].quantile(0.25)\n",
        "\n",
        "\n",
        "print('Mean:', mean)\n",
        "print('Median:', median)\n",
        "print('Mode:', mode)\n",
        "print('Range:', range)\n",
        "print('Variance:', variance)\n",
        "print('Standard deviation:', standard_deviation)\n",
        "print('IQR:', iqr)"
      ],
      "metadata": {
        "id": "EbPe2eQgypdc"
      },
      "execution_count": null,
      "outputs": []
    },
    {
      "cell_type": "code",
      "source": [
        "mean = df['Hospital Total Days Title V For Adults & Peds'].mean()\n",
        "median = df['Hospital Total Days Title V For Adults & Peds'].median()\n",
        "mode = df['Hospital Total Days Title V For Adults & Peds'].mode()\n",
        "\n",
        "range = df['Hospital Total Days Title V For Adults & Peds'].max() - df['Hospital Total Days Title V For Adults & Peds'].min()\n",
        "variance = df['Hospital Total Days Title V For Adults & Peds'].var()\n",
        "standard_deviation = df['Hospital Total Days Title V For Adults & Peds'].std()\n",
        "iqr = df['Hospital Total Days Title V For Adults & Peds'].quantile(0.75) - df['Hospital Total Days Title V For Adults & Peds'].quantile(0.25)\n",
        "\n",
        "\n",
        "print('Mean:', mean)\n",
        "print('Median:', median)\n",
        "print('Mode:', mode)\n",
        "print('Range:', range)\n",
        "print('Variance:', variance)\n",
        "print('Standard deviation:', standard_deviation)\n",
        "print('IQR:', iqr)"
      ],
      "metadata": {
        "id": "bRXkMnitypfs"
      },
      "execution_count": null,
      "outputs": []
    },
    {
      "cell_type": "code",
      "source": [
        "mean = df['Hospital Total Days Title XVIII For Adults & Peds'].mean()\n",
        "median = df['Hospital Total Days Title XVIII For Adults & Peds'].median()\n",
        "mode = df['Hospital Total Days Title XVIII For Adults & Peds'].mode()\n",
        "\n",
        "range = df['Hospital Total Days Title XVIII For Adults & Peds'].max() - df['Hospital Total Days Title XVIII For Adults & Peds'].min()\n",
        "variance = df['Hospital Total Days Title XVIII For Adults & Peds'].var()\n",
        "standard_deviation = df['Hospital Total Days Title XVIII For Adults & Peds'].std()\n",
        "iqr = df['Hospital Total Days Title XVIII For Adults & Peds'].quantile(0.75) - df['Hospital Total Days Title XVIII For Adults & Peds'].quantile(0.25)\n",
        "\n",
        "\n",
        "print('Mean:', mean)\n",
        "print('Median:', median)\n",
        "print('Mode:', mode)\n",
        "print('Range:', range)\n",
        "print('Variance:', variance)\n",
        "print('Standard deviation:', standard_deviation)\n",
        "print('IQR:', iqr)"
      ],
      "metadata": {
        "id": "SGM7DP1z0wBR"
      },
      "execution_count": null,
      "outputs": []
    },
    {
      "cell_type": "code",
      "source": [
        "mean = df['Hospital Total Days Title XIX For Adults & Peds'].mean()\n",
        "median = df['Hospital Total Days Title XIX For Adults & Peds'].median()\n",
        "mode = df['Hospital Total Days Title XIX For Adults & Peds'].mode()\n",
        "\n",
        "range = df['Hospital Total Days Title XIX For Adults & Peds'].max() - df['Hospital Total Days Title XIX For Adults & Peds'].min()\n",
        "variance = df['Hospital Total Days Title XIX For Adults & Peds'].var()\n",
        "standard_deviation = df['Hospital Total Days Title XIX For Adults & Peds'].std()\n",
        "iqr = df['Hospital Total Days Title XIX For Adults & Peds'].quantile(0.75) - df['Hospital Total Days Title XIX For Adults & Peds'].quantile(0.25)\n",
        "\n",
        "\n",
        "print('Mean:', mean)\n",
        "print('Median:', median)\n",
        "print('Mode:', mode)\n",
        "print('Range:', range)\n",
        "print('Variance:', variance)\n",
        "print('Standard deviation:', standard_deviation)\n",
        "print('IQR:', iqr)"
      ],
      "metadata": {
        "id": "cvtVv1nR0wES"
      },
      "execution_count": null,
      "outputs": []
    },
    {
      "cell_type": "code",
      "source": [
        "mean = df['Hospital Total Days (V + XVIII + XIX + Unknown) For Adults & Peds'].mean()\n",
        "median = df['Hospital Total Days (V + XVIII + XIX + Unknown) For Adults & Peds'].median()\n",
        "mode = df['Hospital Total Days (V + XVIII + XIX + Unknown) For Adults & Peds'].mode()\n",
        "\n",
        "range = df['Hospital Total Days (V + XVIII + XIX + Unknown) For Adults & Peds'].max() - df['Hospital Total Days (V + XVIII + XIX + Unknown) For Adults & Peds'].min()\n",
        "variance = df['Hospital Total Days (V + XVIII + XIX + Unknown) For Adults & Peds'].var()\n",
        "standard_deviation = df['Hospital Total Days (V + XVIII + XIX + Unknown) For Adults & Peds'].std()\n",
        "iqr = df['Hospital Total Days (V + XVIII + XIX + Unknown) For Adults & Peds'].quantile(0.75) - df['Hospital Total Days (V + XVIII + XIX + Unknown) For Adults & Peds'].quantile(0.25)\n",
        "\n",
        "\n",
        "print('Mean:', mean)\n",
        "print('Median:', median)\n",
        "print('Mode:', mode)\n",
        "print('Range:', range)\n",
        "print('Variance:', variance)\n",
        "print('Standard deviation:', standard_deviation)\n",
        "print('IQR:', iqr)"
      ],
      "metadata": {
        "id": "JLfHfmcu0wGn"
      },
      "execution_count": null,
      "outputs": []
    },
    {
      "cell_type": "code",
      "source": [
        "mean = df['Hospital Number of Beds For Adults & Peds'].mean()\n",
        "median = df['Hospital Number of Beds For Adults & Peds'].median()\n",
        "mode = df['Hospital Number of Beds For Adults & Peds'].mode()\n",
        "\n",
        "range = df['Hospital Number of Beds For Adults & Peds'].max() - df['Hospital Number of Beds For Adults & Peds'].min()\n",
        "variance = df['Hospital Number of Beds For Adults & Peds'].var()\n",
        "standard_deviation = df['Hospital Number of Beds For Adults & Peds'].std()\n",
        "iqr = df['Hospital Number of Beds For Adults & Peds'].quantile(0.75) - df['Hospital Number of Beds For Adults & Peds'].quantile(0.25)\n",
        "\n",
        "\n",
        "print('Mean:', mean)\n",
        "print('Median:', median)\n",
        "print('Mode:', mode)\n",
        "print('Range:', range)\n",
        "print('Variance:', variance)\n",
        "print('Standard deviation:', standard_deviation)\n",
        "print('IQR:', iqr)"
      ],
      "metadata": {
        "id": "-8MxTcvA0wqd"
      },
      "execution_count": null,
      "outputs": []
    },
    {
      "cell_type": "code",
      "source": [
        "mean = df['Hospital Total Bed Days Available For Adults & Peds'].mean()\n",
        "median = df['Hospital Total Bed Days Available For Adults & Peds'].median()\n",
        "mode = df['Hospital Total Bed Days Available For Adults & Peds'].mode()\n",
        "\n",
        "range = df['Hospital Total Bed Days Available For Adults & Peds'].max() - df['Hospital Total Bed Days Available For Adults & Peds'].min()\n",
        "variance = df['Hospital Total Bed Days Available For Adults & Peds'].var()\n",
        "standard_deviation = df['Hospital Total Bed Days Available For Adults & Peds'].std()\n",
        "iqr = df['Hospital Total Bed Days Available For Adults & Peds'].quantile(0.75) - df['Hospital Total Bed Days Available For Adults & Peds'].quantile(0.25)\n",
        "\n",
        "\n",
        "print('Mean:', mean)\n",
        "print('Median:', median)\n",
        "print('Mode:', mode)\n",
        "print('Range:', range)\n",
        "print('Variance:', variance)\n",
        "print('Standard deviation:', standard_deviation)\n",
        "print('IQR:', iqr)"
      ],
      "metadata": {
        "id": "Iqx23x9W0wtM"
      },
      "execution_count": null,
      "outputs": []
    },
    {
      "cell_type": "code",
      "source": [
        "mean = df['Hospital Total Discharges Title V For Adults & Peds'].mean()\n",
        "median = df['Hospital Total Discharges Title V For Adults & Peds'].median()\n",
        "mode = df['Hospital Total Discharges Title V For Adults & Peds'].mode()\n",
        "\n",
        "range = df['Hospital Total Discharges Title V For Adults & Peds'].max() - df['Hospital Total Discharges Title V For Adults & Peds'].min()\n",
        "variance = df['Hospital Total Discharges Title V For Adults & Peds'].var()\n",
        "standard_deviation = df['Hospital Total Discharges Title V For Adults & Peds'].std()\n",
        "iqr = df['Hospital Total Discharges Title V For Adults & Peds'].quantile(0.75) - df['Hospital Total Discharges Title V For Adults & Peds'].quantile(0.25)\n",
        "\n",
        "\n",
        "print('Mean:', mean)\n",
        "print('Median:', median)\n",
        "print('Mode:', mode)\n",
        "print('Range:', range)\n",
        "print('Variance:', variance)\n",
        "print('Standard deviation:', standard_deviation)\n",
        "print('IQR:', iqr)"
      ],
      "metadata": {
        "id": "7E9-JiIM1nnz"
      },
      "execution_count": null,
      "outputs": []
    },
    {
      "cell_type": "code",
      "source": [
        "mean = df['THospital Total Discharges Title XVIII For Adults & Peds'].mean()\n",
        "median = df['THospital Total Discharges Title XVIII For Adults & Peds'].median()\n",
        "mode = df['THospital Total Discharges Title XVIII For Adults & Peds'].mode()\n",
        "\n",
        "range = df['THospital Total Discharges Title XVIII For Adults & Peds'].max() - df['THospital Total Discharges Title XVIII For Adults & Peds'].min()\n",
        "variance = df['THospital Total Discharges Title XVIII For Adults & Peds'].var()\n",
        "standard_deviation = df['THospital Total Discharges Title XVIII For Adults & Peds'].std()\n",
        "iqr = df['THospital Total Discharges Title XVIII For Adults & Peds'].quantile(0.75) - df['THospital Total Discharges Title XVIII For Adults & Peds'].quantile(0.25)\n",
        "\n",
        "\n",
        "print('Mean:', mean)\n",
        "print('Median:', median)\n",
        "print('Mode:', mode)\n",
        "print('Range:', range)\n",
        "print('Variance:', variance)\n",
        "print('Standard deviation:', standard_deviation)\n",
        "print('IQR:', iqr)"
      ],
      "metadata": {
        "id": "B6zQMwTA1nqS"
      },
      "execution_count": null,
      "outputs": []
    },
    {
      "cell_type": "code",
      "source": [
        "mean = df['Hospital Total Discharges Title XIX For Adults & Peds'].mean()\n",
        "median = df['Hospital Total Discharges Title XIX For Adults & Peds'].median()\n",
        "mode = df['Hospital Total Discharges Title XIX For Adults & Peds'].mode()\n",
        "\n",
        "range = df['Hospital Total Discharges Title XIX For Adults & Peds'].max() - df['Hospital Total Discharges Title XIX For Adults & Peds'].min()\n",
        "variance = df['Hospital Total Discharges Title XIX For Adults & Peds'].var()\n",
        "standard_deviation = df['Hospital Total Discharges Title XIX For Adults & Peds'].std()\n",
        "iqr = df['Hospital Total Discharges Title XIX For Adults & Peds'].quantile(0.75) - df['Hospital Total Discharges Title XIX For Adults & Peds'].quantile(0.25)\n",
        "\n",
        "\n",
        "print('Mean:', mean)\n",
        "print('Median:', median)\n",
        "print('Mode:', mode)\n",
        "print('Range:', range)\n",
        "print('Variance:', variance)\n",
        "print('Standard deviation:', standard_deviation)\n",
        "print('IQR:', iqr)"
      ],
      "metadata": {
        "id": "Ap5mNytb1ntk"
      },
      "execution_count": null,
      "outputs": []
    },
    {
      "cell_type": "code",
      "source": [
        "mean = df['Hospital Total Discharges (V + XVIII + XIX + Unknown) For Adults & Peds'].mean()\n",
        "median = df['Hospital Total Discharges (V + XVIII + XIX + Unknown) For Adults & Peds'].median()\n",
        "mode = df['Hospital Total Discharges (V + XVIII + XIX + Unknown) For Adults & Peds'].mode()\n",
        "\n",
        "range = df['Hospital Total Discharges (V + XVIII + XIX + Unknown) For Adults & Peds'].max() - df['Hospital Total Discharges (V + XVIII + XIX + Unknown) For Adults & Peds'].min()\n",
        "variance = df['Hospital Total Discharges (V + XVIII + XIX + Unknown) For Adults & Peds'].var()\n",
        "standard_deviation = df['Hospital Total Discharges (V + XVIII + XIX + Unknown) For Adults & Peds'].std()\n",
        "iqr = df['Hospital Total Discharges (V + XVIII + XIX + Unknown) For Adults & Peds'].quantile(0.75) - df['Hospital Total Discharges (V + XVIII + XIX + Unknown) For Adults & Peds'].quantile(0.25)\n",
        "\n",
        "\n",
        "print('Mean:', mean)\n",
        "print('Median:', median)\n",
        "print('Mode:', mode)\n",
        "print('Range:', range)\n",
        "print('Variance:', variance)\n",
        "print('Standard deviation:', standard_deviation)\n",
        "print('IQR:', iqr)"
      ],
      "metadata": {
        "id": "8RhCJ2NH1nwu"
      },
      "execution_count": null,
      "outputs": []
    },
    {
      "cell_type": "code",
      "source": [
        "mean = df['TCost of Charity Care'].mean()\n",
        "median = df['TCost of Charity Care'].median()\n",
        "mode = df['TCost of Charity Care'].mode()\n",
        "\n",
        "range = df['TCost of Charity Care'].max() - df['TCost of Charity Care'].min()\n",
        "variance = df['TCost of Charity Care'].var()\n",
        "standard_deviation = df['TCost of Charity Care'].std()\n",
        "iqr = df['TCost of Charity Care'].quantile(0.75) - df['TCost of Charity Care'].quantile(0.25)\n",
        "\n",
        "\n",
        "print('Mean:', mean)\n",
        "print('Median:', median)\n",
        "print('Mode:', mode)\n",
        "print('Range:', range)\n",
        "print('Variance:', variance)\n",
        "print('Standard deviation:', standard_deviation)\n",
        "print('IQR:', iqr)"
      ],
      "metadata": {
        "id": "d9x2UYl31n0B"
      },
      "execution_count": null,
      "outputs": []
    },
    {
      "cell_type": "code",
      "source": [
        "mean = df['Total Bad Debt Expense'].mean()\n",
        "median = df['Total Bad Debt Expense'].median()\n",
        "mode = df['Total Bad Debt Expense'].mode()\n",
        "\n",
        "range = df['Total Bad Debt Expense'].max() - df['Total Bad Debt Expense'].min()\n",
        "variance = df['Total Bad Debt Expense'].var()\n",
        "standard_deviation = df['Total Bad Debt Expense'].std()\n",
        "iqr = df['Total Bad Debt Expense'].quantile(0.75) - df['Total Bad Debt Expense'].quantile(0.25)\n",
        "\n",
        "\n",
        "print('Mean:', mean)\n",
        "print('Median:', median)\n",
        "print('Mode:', mode)\n",
        "print('Range:', range)\n",
        "print('Variance:', variance)\n",
        "print('Standard deviation:', standard_deviation)\n",
        "print('IQR:', iqr)"
      ],
      "metadata": {
        "id": "NBRBIS9V1n3c"
      },
      "execution_count": null,
      "outputs": []
    },
    {
      "cell_type": "code",
      "source": [
        "mean = df['Cost of Uncompensated Care'].mean()\n",
        "median = df['Cost of Uncompensated Care'].median()\n",
        "mode = df['Cost of Uncompensated Care'].mode()\n",
        "\n",
        "range = df['Cost of Uncompensated Care'].max() - df['Cost of Uncompensated Care'].min()\n",
        "variance = df['Cost of Uncompensated Care'].var()\n",
        "standard_deviation = df['Cost of Uncompensated Care'].std()\n",
        "iqr = df['Cost of Uncompensated Care'].quantile(0.75) - df['Cost of Uncompensated Care'].quantile(0.25)\n",
        "\n",
        "\n",
        "print('Mean:', mean)\n",
        "print('Median:', median)\n",
        "print('Mode:', mode)\n",
        "print('Range:', range)\n",
        "print('Variance:', variance)\n",
        "print('Standard deviation:', standard_deviation)\n",
        "print('IQR:', iqr)"
      ],
      "metadata": {
        "id": "8-ueHni51n6f"
      },
      "execution_count": null,
      "outputs": []
    },
    {
      "cell_type": "code",
      "source": [
        "mean = df['Total Unreimbursed and Uncompensated Care'].mean()\n",
        "median = df['Total Unreimbursed and Uncompensated Care'].median()\n",
        "mode = df['Total Unreimbursed and Uncompensated Care'].mode()\n",
        "\n",
        "range = df['Total Unreimbursed and Uncompensated Care'].max() - df['Total Unreimbursed and Uncompensated Care'].min()\n",
        "variance = df['Total Unreimbursed and Uncompensated Care'].var()\n",
        "standard_deviation = df['Total Unreimbursed and Uncompensated Care'].std()\n",
        "iqr = df['Total Unreimbursed and Uncompensated Care'].quantile(0.75) - df['Total Unreimbursed and Uncompensated Care'].quantile(0.25)\n",
        "\n",
        "\n",
        "print('Mean:', mean)\n",
        "print('Median:', median)\n",
        "print('Mode:', mode)\n",
        "print('Range:', range)\n",
        "print('Variance:', variance)\n",
        "print('Standard deviation:', standard_deviation)\n",
        "print('IQR:', iqr)"
      ],
      "metadata": {
        "id": "wlv9-baD1n9e"
      },
      "execution_count": null,
      "outputs": []
    },
    {
      "cell_type": "code",
      "source": [
        "mean = df['Overhead Non-Salary Costs'].mean()\n",
        "median = df['Overhead Non-Salary Costs'].median()\n",
        "mode = df['Overhead Non-Salary Costs'].mode()\n",
        "\n",
        "range = df['Overhead Non-Salary Costs'].max() - df['Overhead Non-Salary Costs'].min()\n",
        "variance = df['Overhead Non-Salary Costs'].var()\n",
        "standard_deviation = df['Overhead Non-Salary Costs'].std()\n",
        "iqr = df['Overhead Non-Salary Costs'].quantile(0.75) - df['Overhead Non-Salary Costs'].quantile(0.25)\n",
        "\n",
        "\n",
        "print('Mean:', mean)\n",
        "print('Median:', median)\n",
        "print('Mode:', mode)\n",
        "print('Range:', range)\n",
        "print('Variance:', variance)\n",
        "print('Standard deviation:', standard_deviation)\n",
        "print('IQR:', iqr)"
      ],
      "metadata": {
        "id": "intQP9Qm1oAh"
      },
      "execution_count": null,
      "outputs": []
    },
    {
      "cell_type": "code",
      "source": [
        "mean = df['Depreciation Cost'].mean()\n",
        "median = df['Depreciation Cost'].median()\n",
        "mode = df['Depreciation Cost'].mode()\n",
        "\n",
        "range = df['Depreciation Cost'].max() - df['Depreciation Cost'].min()\n",
        "variance = df['Depreciation Cost'].var()\n",
        "standard_deviation = df['Depreciation Cost'].std()\n",
        "iqr = df['Depreciation Cost'].quantile(0.75) - df['Depreciation Cost'].quantile(0.25)\n",
        "\n",
        "\n",
        "print('Mean:', mean)\n",
        "print('Median:', median)\n",
        "print('Mode:', mode)\n",
        "print('Range:', range)\n",
        "print('Variance:', variance)\n",
        "print('Standard deviation:', standard_deviation)\n",
        "print('IQR:', iqr)"
      ],
      "metadata": {
        "id": "qCyWKEWr1oDy"
      },
      "execution_count": null,
      "outputs": []
    },
    {
      "cell_type": "code",
      "source": [
        "mean = df['Total Costs'].mean()\n",
        "median = df['Total Costs'].median()\n",
        "mode = df['Total Costs'].mode()\n",
        "\n",
        "range = df['Total Costs'].max() - df['Total Costs'].min()\n",
        "variance = df['Total Costs'].var()\n",
        "standard_deviation = df['Total Costs'].std()\n",
        "iqr = df['Total Costs'].quantile(0.75) - df['Total Costs'].quantile(0.25)\n",
        "\n",
        "\n",
        "print('Mean:', mean)\n",
        "print('Median:', median)\n",
        "print('Mode:', mode)\n",
        "print('Range:', range)\n",
        "print('Variance:', variance)\n",
        "print('Standard deviation:', standard_deviation)\n",
        "print('IQR:', iqr)"
      ],
      "metadata": {
        "id": "BIhgOcQh2cIx"
      },
      "execution_count": null,
      "outputs": []
    },
    {
      "cell_type": "code",
      "source": [
        "mean = df['Inpatient Total Charges'].mean()\n",
        "median = df['Inpatient Total Charges'].median()\n",
        "mode = df['Inpatient Total Charges'].mode()\n",
        "\n",
        "range = df['Inpatient Total Charges'].max() - df['Inpatient Total Charges'].min()\n",
        "variance = df['Inpatient Total Charges'].var()\n",
        "standard_deviation = df['Inpatient Total Charges'].std()\n",
        "iqr = df['Inpatient Total Charges'].quantile(0.75) - df['Inpatient Total Charges'].quantile(0.25)\n",
        "\n",
        "\n",
        "print('Mean:', mean)\n",
        "print('Median:', median)\n",
        "print('Mode:', mode)\n",
        "print('Range:', range)\n",
        "print('Variance:', variance)\n",
        "print('Standard deviation:', standard_deviation)\n",
        "print('IQR:', iqr)"
      ],
      "metadata": {
        "id": "FB1Ob0Bg2cLo"
      },
      "execution_count": null,
      "outputs": []
    },
    {
      "cell_type": "code",
      "source": [
        "mean = df['Outpatient Total Charges'].mean()\n",
        "median = df['Outpatient Total Charges'].median()\n",
        "mode = df['Outpatient Total Charges'].mode()\n",
        "\n",
        "range = df['Outpatient Total Charges'].max() - df['Outpatient Total Charges'].min()\n",
        "variance = df['Outpatient Total Charges'].var()\n",
        "standard_deviation = df['Outpatient Total Charges'].std()\n",
        "iqr = df['Outpatient Total Charges'].quantile(0.75) - df['Outpatient Total Charges'].quantile(0.25)\n",
        "\n",
        "\n",
        "print('Mean:', mean)\n",
        "print('Median:', median)\n",
        "print('Mode:', mode)\n",
        "print('Range:', range)\n",
        "print('Variance:', variance)\n",
        "print('Standard deviation:', standard_deviation)\n",
        "print('IQR:', iqr)"
      ],
      "metadata": {
        "id": "nqJFRqUa2cOS"
      },
      "execution_count": null,
      "outputs": []
    },
    {
      "cell_type": "code",
      "source": [
        "mean = df['Combined Outpatient + Inpatient Total Charges'].mean()\n",
        "median = df['Combined Outpatient + Inpatient Total Charges'].median()\n",
        "mode = df['Combined Outpatient + Inpatient Total Charges'].mode()\n",
        "\n",
        "range = df['Combined Outpatient + Inpatient Total Charges'].max() - df['Combined Outpatient + Inpatient Total Charges'].min()\n",
        "variance = df['Combined Outpatient + Inpatient Total Charges'].var()\n",
        "standard_deviation = df['Combined Outpatient + Inpatient Total Charges'].std()\n",
        "iqr = df['Combined Outpatient + Inpatient Total Charges'].quantile(0.75) - df['Combined Outpatient + Inpatient Total Charges'].quantile(0.25)\n",
        "\n",
        "\n",
        "print('Mean:', mean)\n",
        "print('Median:', median)\n",
        "print('Mode:', mode)\n",
        "print('Range:', range)\n",
        "print('Variance:', variance)\n",
        "print('Standard deviation:', standard_deviation)\n",
        "print('IQR:', iqr)"
      ],
      "metadata": {
        "id": "Hr9AnHvu2cQr"
      },
      "execution_count": null,
      "outputs": []
    },
    {
      "cell_type": "code",
      "source": [
        "mean = df['Wage-Related Costs (Core)'].mean()\n",
        "median = df['Wage-Related Costs (Core)'].median()\n",
        "mode = df['Wage-Related Costs (Core)'].mode()\n",
        "\n",
        "range = df['Wage-Related Costs (Core)'].max() - df['Wage-Related Costs (Core)'].min()\n",
        "variance = df['Wage-Related Costs (Core)'].var()\n",
        "standard_deviation = df['Wage-Related Costs (Core)'].std()\n",
        "iqr = df['Wage-Related Costs (Core)'].quantile(0.75) - df['Wage-Related Costs (Core)'].quantile(0.25)\n",
        "\n",
        "\n",
        "print('Mean:', mean)\n",
        "print('Median:', median)\n",
        "print('Mode:', mode)\n",
        "print('Range:', range)\n",
        "print('Variance:', variance)\n",
        "print('Standard deviation:', standard_deviation)\n",
        "print('IQR:', iqr)"
      ],
      "metadata": {
        "id": "NIiU61U82cTl"
      },
      "execution_count": null,
      "outputs": []
    },
    {
      "cell_type": "code",
      "source": [
        "mean = df['Wage-Related Costs (RHC/FQHC)'].mean()\n",
        "median = df['Wage-Related Costs (RHC/FQHC)'].median()\n",
        "mode = df['Wage-Related Costs (RHC/FQHC)'].mode()\n",
        "\n",
        "range = df['Wage-Related Costs (RHC/FQHC)'].max() - df['Wage-Related Costs (RHC/FQHC)'].min()\n",
        "variance = df['Wage-Related Costs (RHC/FQHC)'].var()\n",
        "standard_deviation = df['Wage-Related Costs (RHC/FQHC)'].std()\n",
        "iqr = df['Wage-Related Costs (RHC/FQHC)'].quantile(0.75) - df['Wage-Related Costs (RHC/FQHC)'].quantile(0.25)\n",
        "\n",
        "\n",
        "print('Mean:', mean)\n",
        "print('Median:', median)\n",
        "print('Mode:', mode)\n",
        "print('Range:', range)\n",
        "print('Variance:', variance)\n",
        "print('Standard deviation:', standard_deviation)\n",
        "print('IQR:', iqr)"
      ],
      "metadata": {
        "id": "Zblnqcmx2cWo"
      },
      "execution_count": null,
      "outputs": []
    },
    {
      "cell_type": "code",
      "source": [
        "mean = df['Total Salaries (adjusted)'].mean()\n",
        "median = df['Total Salaries (adjusted)'].median()\n",
        "mode = df['Total Salaries (adjusted)'].mode()\n",
        "\n",
        "range = df['Total Salaries (adjusted)'].max() - df['Total Salaries (adjusted)'].min()\n",
        "variance = df['Total Salaries (adjusted)'].var()\n",
        "standard_deviation = df['Total Salaries (adjusted)'].std()\n",
        "iqr = df['Total Salaries (adjusted)'].quantile(0.75) - df['Total Salaries (adjusted)'].quantile(0.25)\n",
        "\n",
        "\n",
        "print('Mean:', mean)\n",
        "print('Median:', median)\n",
        "print('Mode:', mode)\n",
        "print('Range:', range)\n",
        "print('Variance:', variance)\n",
        "print('Standard deviation:', standard_deviation)\n",
        "print('IQR:', iqr)"
      ],
      "metadata": {
        "id": "G2fh3MTY2cZi"
      },
      "execution_count": null,
      "outputs": []
    },
    {
      "cell_type": "code",
      "source": [
        "mean = df['Contract Labor'].mean()\n",
        "median = df['Contract Labor'].median()\n",
        "mode = df['Contract Labor'].mode()\n",
        "\n",
        "range = df['Contract Labor'].max() - df['Contract Labor'].min()\n",
        "variance = df['Contract Labor'].var()\n",
        "standard_deviation = df['Contract Labor'].std()\n",
        "iqr = df['Contract Labor'].quantile(0.75) - df['Contract Labor'].quantile(0.25)\n",
        "\n",
        "\n",
        "print('Mean:', mean)\n",
        "print('Median:', median)\n",
        "print('Mode:', mode)\n",
        "print('Range:', range)\n",
        "print('Variance:', variance)\n",
        "print('Standard deviation:', standard_deviation)\n",
        "print('IQR:', iqr)"
      ],
      "metadata": {
        "id": "sgBh0tEj2ccX"
      },
      "execution_count": null,
      "outputs": []
    },
    {
      "cell_type": "code",
      "source": [
        "mean = df['Wage Related Costs for Part - A Teaching Physicians'].mean()\n",
        "median = df['Wage Related Costs for Part - A Teaching Physicians'].median()\n",
        "mode = df['Wage Related Costs for Part - A Teaching Physicians'].mode()\n",
        "\n",
        "range = df['Wage Related Costs for Part - A Teaching Physicians'].max() - df['Wage Related Costs for Part - A Teaching Physicians'].min()\n",
        "variance = df['Wage Related Costs for Part - A Teaching Physicians'].var()\n",
        "standard_deviation = df['Wage Related Costs for Part - A Teaching Physicians'].std()\n",
        "iqr = df['Wage Related Costs for Part - A Teaching Physicians'].quantile(0.75) - df['Wage Related Costs for Part - A Teaching Physicians'].quantile(0.25)\n",
        "\n",
        "\n",
        "print('Mean:', mean)\n",
        "print('Median:', median)\n",
        "print('Mode:', mode)\n",
        "print('Range:', range)\n",
        "print('Variance:', variance)\n",
        "print('Standard deviation:', standard_deviation)\n",
        "print('IQR:', iqr)"
      ],
      "metadata": {
        "id": "R_TaWpwY2ce8"
      },
      "execution_count": null,
      "outputs": []
    },
    {
      "cell_type": "code",
      "source": [
        "mean = df['Wage Related Costs for Interns and Residents'].mean()\n",
        "median = df['Wage Related Costs for Interns and Residents'].median()\n",
        "mode = df['Wage Related Costs for Interns and Residents'].mode()\n",
        "\n",
        "range = df['Wage Related Costs for Interns and Residents'].max() - df['Wage Related Costs for Interns and Residents'].min()\n",
        "variance = df['Wage Related Costs for Interns and Residents'].var()\n",
        "standard_deviation = df['Wage Related Costs for Interns and Residents'].std()\n",
        "iqr = df['Wage Related Costs for Interns and Residents'].quantile(0.75) - df['Wage Related Costs for Interns and Residents'].quantile(0.25)\n",
        "\n",
        "\n",
        "print('Mean:', mean)\n",
        "print('Median:', median)\n",
        "print('Mode:', mode)\n",
        "print('Range:', range)\n",
        "print('Variance:', variance)\n",
        "print('Standard deviation:', standard_deviation)\n",
        "print('IQR:', iqr)"
      ],
      "metadata": {
        "id": "2uD275BP2chm"
      },
      "execution_count": null,
      "outputs": []
    },
    {
      "cell_type": "code",
      "source": [
        "mean = df['Cash on Hand and in Banks'].mean()\n",
        "median = df['Cash on Hand and in Banks'].median()\n",
        "mode = df['Cash on Hand and in Banks'].mode()\n",
        "\n",
        "range = df['Cash on Hand and in Banks'].max() - df['Cash on Hand and in Banks'].min()\n",
        "variance = df['Cash on Hand and in Banks'].var()\n",
        "standard_deviation = df['Cash on Hand and in Banks'].std()\n",
        "iqr = df['Cash on Hand and in Banks'].quantile(0.75) - df['Cash on Hand and in Banks'].quantile(0.25)\n",
        "\n",
        "\n",
        "print('Mean:', mean)\n",
        "print('Median:', median)\n",
        "print('Mode:', mode)\n",
        "print('Range:', range)\n",
        "print('Variance:', variance)\n",
        "print('Standard deviation:', standard_deviation)\n",
        "print('IQR:', iqr)"
      ],
      "metadata": {
        "id": "ZH2xZrbJ2cko"
      },
      "execution_count": null,
      "outputs": []
    },
    {
      "cell_type": "code",
      "source": [
        "mean = df['Temporary Investments'].mean()\n",
        "median = df['Temporary Investments'].median()\n",
        "mode = df['Temporary Investments'].mode()\n",
        "\n",
        "range = df['Temporary Investments'].max() - df['Temporary Investments'].min()\n",
        "variance = df['Temporary Investments'].var()\n",
        "standard_deviation = df['Temporary Investments'].std()\n",
        "iqr = df['Temporary Investments'].quantile(0.75) - df['Temporary Investments'].quantile(0.25)\n",
        "\n",
        "\n",
        "print('Mean:', mean)\n",
        "print('Median:', median)\n",
        "print('Mode:', mode)\n",
        "print('Range:', range)\n",
        "print('Variance:', variance)\n",
        "print('Standard deviation:', standard_deviation)\n",
        "print('IQR:', iqr)"
      ],
      "metadata": {
        "id": "W5R6pDq83UsL"
      },
      "execution_count": null,
      "outputs": []
    },
    {
      "cell_type": "code",
      "source": [
        "mean = df['Notes Receivable'].mean()\n",
        "median = df['Notes Receivable'].median()\n",
        "mode = df['Notes Receivable'].mode()\n",
        "\n",
        "range = df['Notes Receivable'].max() - df['Notes Receivable'].min()\n",
        "variance = df['Notes Receivable'].var()\n",
        "standard_deviation = df['Notes Receivable'].std()\n",
        "iqr = df['Notes Receivable'].quantile(0.75) - df['Notes Receivable'].quantile(0.25)\n",
        "\n",
        "\n",
        "print('Mean:', mean)\n",
        "print('Median:', median)\n",
        "print('Mode:', mode)\n",
        "print('Range:', range)\n",
        "print('Variance:', variance)\n",
        "print('Standard deviation:', standard_deviation)\n",
        "print('IQR:', iqr)"
      ],
      "metadata": {
        "id": "9f042aAx3Uuj"
      },
      "execution_count": null,
      "outputs": []
    },
    {
      "cell_type": "code",
      "source": [
        "mean = df['Accounts Receivable'].mean()\n",
        "median = df['Accounts Receivable'].median()\n",
        "mode = df['Accounts Receivable'].mode()\n",
        "\n",
        "range = df['Accounts Receivable'].max() - df['Accounts Receivable'].min()\n",
        "variance = df['Accounts Receivable'].var()\n",
        "standard_deviation = df['Accounts Receivable'].std()\n",
        "iqr = df['Accounts Receivable'].quantile(0.75) - df['Accounts Receivable'].quantile(0.25)\n",
        "\n",
        "\n",
        "print('Mean:', mean)\n",
        "print('Median:', median)\n",
        "print('Mode:', mode)\n",
        "print('Range:', range)\n",
        "print('Variance:', variance)\n",
        "print('Standard deviation:', standard_deviation)\n",
        "print('IQR:', iqr)"
      ],
      "metadata": {
        "id": "G-TzVzdk3Uwt"
      },
      "execution_count": null,
      "outputs": []
    },
    {
      "cell_type": "code",
      "source": [
        "mean = df['Less: Allowances for Uncollectible Notes and Accounts Receivable'].mean()\n",
        "median = df['Less: Allowances for Uncollectible Notes and Accounts Receivable'].median()\n",
        "mode = df['Less: Allowances for Uncollectible Notes and Accounts Receivable'].mode()\n",
        "\n",
        "range = df['Less: Allowances for Uncollectible Notes and Accounts Receivable'].max() - df['Less: Allowances for Uncollectible Notes and Accounts Receivable'].min()\n",
        "variance = df['Less: Allowances for Uncollectible Notes and Accounts Receivable'].var()\n",
        "standard_deviation = df['Less: Allowances for Uncollectible Notes and Accounts Receivable'].std()\n",
        "iqr = df['Less: Allowances for Uncollectible Notes and Accounts Receivable'].quantile(0.75) - df['Less: Allowances for Uncollectible Notes and Accounts Receivable'].quantile(0.25)\n",
        "\n",
        "\n",
        "print('Mean:', mean)\n",
        "print('Median:', median)\n",
        "print('Mode:', mode)\n",
        "print('Range:', range)\n",
        "print('Variance:', variance)\n",
        "print('Standard deviation:', standard_deviation)\n",
        "print('IQR:', iqr)"
      ],
      "metadata": {
        "id": "uRx2QE523UzG"
      },
      "execution_count": null,
      "outputs": []
    },
    {
      "cell_type": "code",
      "source": [
        "mean = df['Inventory'].mean()\n",
        "median = df['Inventory'].median()\n",
        "mode = df['Inventory'].mode()\n",
        "\n",
        "range = df['Inventory'].max() - df['Inventory'].min()\n",
        "variance = df['Inventory'].var()\n",
        "standard_deviation = df['Inventory'].std()\n",
        "iqr = df['Inventory'].quantile(0.75) - df['Inventory'].quantile(0.25)\n",
        "\n",
        "\n",
        "print('Mean:', mean)\n",
        "print('Median:', median)\n",
        "print('Mode:', mode)\n",
        "print('Range:', range)\n",
        "print('Variance:', variance)\n",
        "print('Standard deviation:', standard_deviation)\n",
        "print('IQR:', iqr)"
      ],
      "metadata": {
        "id": "Xl1tr8kH3U1P"
      },
      "execution_count": null,
      "outputs": []
    },
    {
      "cell_type": "code",
      "source": [
        "mean = df['Prepaid Expenses'].mean()\n",
        "median = df['Prepaid Expenses'].median()\n",
        "mode = df['Prepaid Expenses'].mode()\n",
        "\n",
        "range = df['Prepaid Expenses'].max() - df['Prepaid Expenses'].min()\n",
        "variance = df['Prepaid Expenses'].var()\n",
        "standard_deviation = df['Prepaid Expenses'].std()\n",
        "iqr = df['Prepaid Expenses'].quantile(0.75) - df['Prepaid Expenses'].quantile(0.25)\n",
        "\n",
        "\n",
        "print('Mean:', mean)\n",
        "print('Median:', median)\n",
        "print('Mode:', mode)\n",
        "print('Range:', range)\n",
        "print('Variance:', variance)\n",
        "print('Standard deviation:', standard_deviation)\n",
        "print('IQR:', iqr)"
      ],
      "metadata": {
        "id": "p24MN0el3U3g"
      },
      "execution_count": null,
      "outputs": []
    },
    {
      "cell_type": "code",
      "source": [
        "mean = df['Other Current Assets'].mean()\n",
        "median = df['Other Current Assets'].median()\n",
        "mode = df['Other Current Assets'].mode()\n",
        "\n",
        "range = df['Other Current Assets'].max() - df['Other Current Assets'].min()\n",
        "variance = df['Other Current Assets'].var()\n",
        "standard_deviation = df['Other Current Assets'].std()\n",
        "iqr = df['Other Current Assets'].quantile(0.75) - df['Other Current Assets'].quantile(0.25)\n",
        "\n",
        "\n",
        "print('Mean:', mean)\n",
        "print('Median:', median)\n",
        "print('Mode:', mode)\n",
        "print('Range:', range)\n",
        "print('Variance:', variance)\n",
        "print('Standard deviation:', standard_deviation)\n",
        "print('IQR:', iqr)"
      ],
      "metadata": {
        "id": "vZzX44u-3U5q"
      },
      "execution_count": null,
      "outputs": []
    },
    {
      "cell_type": "code",
      "source": [
        "mean = df['Total Current Assets'].mean()\n",
        "median = df['Total Current Assets'].median()\n",
        "mode = df['Total Current Assets'].mode()\n",
        "\n",
        "range = df['Total Current Assets'].max() - df['Total Current Assets'].min()\n",
        "variance = df['Total Current Assets'].var()\n",
        "standard_deviation = df['Total Current Assets'].std()\n",
        "iqr = df['Total Current Assets'].quantile(0.75) - df['Total Current Assets'].quantile(0.25)\n",
        "\n",
        "\n",
        "print('Mean:', mean)\n",
        "print('Median:', median)\n",
        "print('Mode:', mode)\n",
        "print('Range:', range)\n",
        "print('Variance:', variance)\n",
        "print('Standard deviation:', standard_deviation)\n",
        "print('IQR:', iqr)"
      ],
      "metadata": {
        "id": "c6F-eqQs3U7z"
      },
      "execution_count": null,
      "outputs": []
    },
    {
      "cell_type": "code",
      "source": [
        "mean = df['Land'].mean()\n",
        "median = df['Land'].median()\n",
        "mode = df['Land'].mode()\n",
        "\n",
        "range = df['Land'].max() - df['Land'].min()\n",
        "variance = df['Land'].var()\n",
        "standard_deviation = df['Land'].std()\n",
        "iqr = df['Land'].quantile(0.75) - df['Land'].quantile(0.25)\n",
        "\n",
        "\n",
        "print('Mean:', mean)\n",
        "print('Median:', median)\n",
        "print('Mode:', mode)\n",
        "print('Range:', range)\n",
        "print('Variance:', variance)\n",
        "print('Standard deviation:', standard_deviation)\n",
        "print('IQR:', iqr)"
      ],
      "metadata": {
        "id": "RHE1HQJO3U-U"
      },
      "execution_count": null,
      "outputs": []
    },
    {
      "cell_type": "code",
      "source": [
        "mean = df['Land Improvements'].mean()\n",
        "median = df['Land Improvements'].median()\n",
        "mode = df['Land Improvements'].mode()\n",
        "\n",
        "range = df['Land Improvements'].max() - df['Land Improvements'].min()\n",
        "variance = df['Land Improvements'].var()\n",
        "standard_deviation = df['Land Improvements'].std()\n",
        "iqr = df['Land Improvements'].quantile(0.75) - df['Land Improvements'].quantile(0.25)\n",
        "\n",
        "\n",
        "print('Mean:', mean)\n",
        "print('Median:', median)\n",
        "print('Mode:', mode)\n",
        "print('Range:', range)\n",
        "print('Variance:', variance)\n",
        "print('Standard deviation:', standard_deviation)\n",
        "print('IQR:', iqr)"
      ],
      "metadata": {
        "id": "FkkeZ_qW3VAo"
      },
      "execution_count": null,
      "outputs": []
    },
    {
      "cell_type": "code",
      "source": [
        "mean = df['Buildings'].mean()\n",
        "median = df['Buildings'].median()\n",
        "mode = df['Buildings'].mode()\n",
        "\n",
        "range = df['Buildings'].max() - df['Buildings'].min()\n",
        "variance = df['Buildings'].var()\n",
        "standard_deviation = df['Buildings'].std()\n",
        "iqr = df['Buildings'].quantile(0.75) - df['Buildings'].quantile(0.25)\n",
        "\n",
        "\n",
        "print('Mean:', mean)\n",
        "print('Median:', median)\n",
        "print('Mode:', mode)\n",
        "print('Range:', range)\n",
        "print('Variance:', variance)\n",
        "print('Standard deviation:', standard_deviation)\n",
        "print('IQR:', iqr)"
      ],
      "metadata": {
        "id": "EfGWAZg03VDA"
      },
      "execution_count": null,
      "outputs": []
    },
    {
      "cell_type": "code",
      "source": [
        "mean = df['Leasehold Improvements'].mean()\n",
        "median = df['Leasehold Improvements'].median()\n",
        "mode = df['Leasehold Improvements'].mode()\n",
        "\n",
        "range = df['Leasehold Improvements'].max() - df['Leasehold Improvements'].min()\n",
        "variance = df['Leasehold Improvements'].var()\n",
        "standard_deviation = df['Leasehold Improvements'].std()\n",
        "iqr = df['Leasehold Improvements'].quantile(0.75) - df['Leasehold Improvements'].quantile(0.25)\n",
        "\n",
        "\n",
        "print('Mean:', mean)\n",
        "print('Median:', median)\n",
        "print('Mode:', mode)\n",
        "print('Range:', range)\n",
        "print('Variance:', variance)\n",
        "print('Standard deviation:', standard_deviation)\n",
        "print('IQR:', iqr)"
      ],
      "metadata": {
        "id": "5kJA7SKJ3VFa"
      },
      "execution_count": null,
      "outputs": []
    },
    {
      "cell_type": "code",
      "source": [
        "mean = df['Fixed Equipment'].mean()\n",
        "median = df['Fixed Equipment'].median()\n",
        "mode = df['Fixed Equipment'].mode()\n",
        "\n",
        "range = df['Fixed Equipment'].max() - df['Fixed Equipment'].min()\n",
        "variance = df['Fixed Equipment'].var()\n",
        "standard_deviation = df['Fixed Equipment'].std()\n",
        "iqr = df['Fixed Equipment'].quantile(0.75) - df['Fixed Equipment'].quantile(0.25)\n",
        "\n",
        "\n",
        "print('Mean:', mean)\n",
        "print('Median:', median)\n",
        "print('Mode:', mode)\n",
        "print('Range:', range)\n",
        "print('Variance:', variance)\n",
        "print('Standard deviation:', standard_deviation)\n",
        "print('IQR:', iqr)"
      ],
      "metadata": {
        "id": "ZrTxx50n3VH0"
      },
      "execution_count": null,
      "outputs": []
    },
    {
      "cell_type": "code",
      "source": [
        "mean = df['Major Movable Equipment'].mean()\n",
        "median = df['Major Movable Equipment'].median()\n",
        "mode = df['Major Movable Equipment'].mode()\n",
        "\n",
        "range = df['Major Movable Equipment'].max() - df['Major Movable Equipment'].min()\n",
        "variance = df['Major Movable Equipment'].var()\n",
        "standard_deviation = df['Major Movable Equipment'].std()\n",
        "iqr = df['Major Movable Equipment'].quantile(0.75) - df['Major Movable Equipment'].quantile(0.25)\n",
        "\n",
        "\n",
        "print('Mean:', mean)\n",
        "print('Median:', median)\n",
        "print('Mode:', mode)\n",
        "print('Range:', range)\n",
        "print('Variance:', variance)\n",
        "print('Standard deviation:', standard_deviation)\n",
        "print('IQR:', iqr)"
      ],
      "metadata": {
        "id": "z8feJbCm3VKV"
      },
      "execution_count": null,
      "outputs": []
    },
    {
      "cell_type": "code",
      "source": [
        "mean = df['Minor Equipment Depreciable'].mean()\n",
        "median = df['Minor Equipment Depreciable'].median()\n",
        "mode = df['Minor Equipment Depreciable'].mode()\n",
        "\n",
        "range = df['Minor Equipment Depreciable'].max() - df['Minor Equipment Depreciable'].min()\n",
        "variance = df['Minor Equipment Depreciable'].var()\n",
        "standard_deviation = df['Minor Equipment Depreciable'].std()\n",
        "iqr = df['Minor Equipment Depreciable'].quantile(0.75) - df['Minor Equipment Depreciable'].quantile(0.25)\n",
        "\n",
        "\n",
        "print('Mean:', mean)\n",
        "print('Median:', median)\n",
        "print('Mode:', mode)\n",
        "print('Range:', range)\n",
        "print('Variance:', variance)\n",
        "print('Standard deviation:', standard_deviation)\n",
        "print('IQR:', iqr)"
      ],
      "metadata": {
        "id": "-1-YC_T34d-U"
      },
      "execution_count": null,
      "outputs": []
    },
    {
      "cell_type": "code",
      "source": [
        "mean = df['Health Information Technology Designated Assets'].mean()\n",
        "median = df['Health Information Technology Designated Assets'].median()\n",
        "mode = df['Health Information Technology Designated Assets'].mode()\n",
        "\n",
        "range = df['Health Information Technology Designated Assets'].max() - df['Health Information Technology Designated Assets'].min()\n",
        "variance = df['Health Information Technology Designated Assets'].var()\n",
        "standard_deviation = df['Health Information Technology Designated Assets'].std()\n",
        "iqr = df['Health Information Technology Designated Assets'].quantile(0.75) - df['Health Information Technology Designated Assets'].quantile(0.25)\n",
        "\n",
        "\n",
        "print('Mean:', mean)\n",
        "print('Median:', median)\n",
        "print('Mode:', mode)\n",
        "print('Range:', range)\n",
        "print('Variance:', variance)\n",
        "print('Standard deviation:', standard_deviation)\n",
        "print('IQR:', iqr)"
      ],
      "metadata": {
        "id": "FK87hX1C4eB7"
      },
      "execution_count": null,
      "outputs": []
    },
    {
      "cell_type": "code",
      "source": [
        "mean = df['Total Fixed Assets'].mean()\n",
        "median = df['Total Fixed Assets'].median()\n",
        "mode = df['Total Fixed Assets'].mode()\n",
        "\n",
        "range = df['Total Fixed Assets'].max() - df['Total Fixed Assets'].min()\n",
        "variance = df['Total Fixed Assets'].var()\n",
        "standard_deviation = df['Total Fixed Assets'].std()\n",
        "iqr = df['Total Fixed Assets'].quantile(0.75) - df['Total Fixed Assets'].quantile(0.25)\n",
        "\n",
        "\n",
        "print('Mean:', mean)\n",
        "print('Median:', median)\n",
        "print('Mode:', mode)\n",
        "print('Range:', range)\n",
        "print('Variance:', variance)\n",
        "print('Standard deviation:', standard_deviation)\n",
        "print('IQR:', iqr)"
      ],
      "metadata": {
        "id": "CRyq-Mft4eFe"
      },
      "execution_count": null,
      "outputs": []
    },
    {
      "cell_type": "code",
      "source": [
        "mean = df['Investments'].mean()\n",
        "median = df['Investments'].median()\n",
        "mode = df['Investments'].mode()\n",
        "\n",
        "range = df['Investments'].max() - df['Investments'].min()\n",
        "variance = df['Investments'].var()\n",
        "standard_deviation = df['Investments'].std()\n",
        "iqr = df['Investments'].quantile(0.75) - df['Investments'].quantile(0.25)\n",
        "\n",
        "\n",
        "print('Mean:', mean)\n",
        "print('Median:', median)\n",
        "print('Mode:', mode)\n",
        "print('Range:', range)\n",
        "print('Variance:', variance)\n",
        "print('Standard deviation:', standard_deviation)\n",
        "print('IQR:', iqr)"
      ],
      "metadata": {
        "id": "8rgFpx2L4eI6"
      },
      "execution_count": null,
      "outputs": []
    },
    {
      "cell_type": "code",
      "source": [
        "mean = df['Other Assets'].mean()\n",
        "median = df['Other Assets'].median()\n",
        "mode = df['Other Assets'].mode()\n",
        "\n",
        "range = df['Other Assets'].max() - df['Other Assets'].min()\n",
        "variance = df['Other Assets'].var()\n",
        "standard_deviation = df['Other Assets'].std()\n",
        "iqr = df['Other Assets'].quantile(0.75) - df['Other Assets'].quantile(0.25)\n",
        "\n",
        "\n",
        "print('Mean:', mean)\n",
        "print('Median:', median)\n",
        "print('Mode:', mode)\n",
        "print('Range:', range)\n",
        "print('Variance:', variance)\n",
        "print('Standard deviation:', standard_deviation)\n",
        "print('IQR:', iqr)"
      ],
      "metadata": {
        "id": "0VWLXmvQ4eMZ"
      },
      "execution_count": null,
      "outputs": []
    },
    {
      "cell_type": "code",
      "source": [
        "mean = df['Total Other Assets'].mean()\n",
        "median = df['Total Other Assets'].median()\n",
        "mode = df['Total Other Assets'].mode()\n",
        "\n",
        "range = df['Total Other Assets'].max() - df['Total Other Assets'].min()\n",
        "variance = df['Total Other Assets'].var()\n",
        "standard_deviation = df['Total Other Assets'].std()\n",
        "iqr = df['Total Other Assets'].quantile(0.75) - df['Total Other Assets'].quantile(0.25)\n",
        "\n",
        "\n",
        "print('Mean:', mean)\n",
        "print('Median:', median)\n",
        "print('Mode:', mode)\n",
        "print('Range:', range)\n",
        "print('Variance:', variance)\n",
        "print('Standard deviation:', standard_deviation)\n",
        "print('IQR:', iqr)"
      ],
      "metadata": {
        "id": "1RuUBDUA4eP8"
      },
      "execution_count": null,
      "outputs": []
    },
    {
      "cell_type": "code",
      "source": [
        "mean = df['Total Assets'].mean()\n",
        "median = df['Total Assets'].median()\n",
        "mode = df['Total Assets'].mode()\n",
        "\n",
        "range = df['Total Assets'].max() - df['Total Assets'].min()\n",
        "variance = df['Total Assets'].var()\n",
        "standard_deviation = df['Total Assets'].std()\n",
        "iqr = df['Total Assets'].quantile(0.75) - df['Total Assets'].quantile(0.25)\n",
        "\n",
        "\n",
        "print('Mean:', mean)\n",
        "print('Median:', median)\n",
        "print('Mode:', mode)\n",
        "print('Range:', range)\n",
        "print('Variance:', variance)\n",
        "print('Standard deviation:', standard_deviation)\n",
        "print('IQR:', iqr)"
      ],
      "metadata": {
        "id": "77X4lovE4eTd"
      },
      "execution_count": null,
      "outputs": []
    },
    {
      "cell_type": "code",
      "source": [
        "mean = df['Accounts Payable'].mean()\n",
        "median = df['Accounts Payable'].median()\n",
        "mode = df['Accounts Payable'].mode()\n",
        "\n",
        "range = df['Accounts Payable'].max() - df['Accounts Payable'].min()\n",
        "variance = df['Accounts Payable'].var()\n",
        "standard_deviation = df['Accounts Payable'].std()\n",
        "iqr = df['Accounts Payable'].quantile(0.75) - df['Accounts Payable'].quantile(0.25)\n",
        "\n",
        "\n",
        "print('Mean:', mean)\n",
        "print('Median:', median)\n",
        "print('Mode:', mode)\n",
        "print('Range:', range)\n",
        "print('Variance:', variance)\n",
        "print('Standard deviation:', standard_deviation)\n",
        "print('IQR:', iqr)"
      ],
      "metadata": {
        "id": "UkpBvbr-4eWv"
      },
      "execution_count": null,
      "outputs": []
    },
    {
      "cell_type": "code",
      "source": [
        "mean = df['Salaries, Wages, and Fees Payable'].mean()\n",
        "median = df['Salaries, Wages, and Fees Payable'].median()\n",
        "mode = df['Salaries, Wages, and Fees Payable'].mode()\n",
        "\n",
        "range = df['Salaries, Wages, and Fees Payable'].max() - df['Salaries, Wages, and Fees Payable'].min()\n",
        "variance = df['Salaries, Wages, and Fees Payable'].var()\n",
        "standard_deviation = df['Salaries, Wages, and Fees Payable'].std()\n",
        "iqr = df['Salaries, Wages, and Fees Payable'].quantile(0.75) - df['Salaries, Wages, and Fees Payable'].quantile(0.25)\n",
        "\n",
        "\n",
        "print('Mean:', mean)\n",
        "print('Median:', median)\n",
        "print('Mode:', mode)\n",
        "print('Range:', range)\n",
        "print('Variance:', variance)\n",
        "print('Standard deviation:', standard_deviation)\n",
        "print('IQR:', iqr)"
      ],
      "metadata": {
        "id": "KSvXzaMH4eaV"
      },
      "execution_count": null,
      "outputs": []
    },
    {
      "cell_type": "code",
      "source": [
        "mean = df['Payroll Taxes Payable'].mean()\n",
        "median = df['Payroll Taxes Payable'].median()\n",
        "mode = df['Payroll Taxes Payable'].mode()\n",
        "\n",
        "range = df['Payroll Taxes Payable'].max() - df['Payroll Taxes Payable'].min()\n",
        "variance = df['Payroll Taxes Payable'].var()\n",
        "standard_deviation = df['Payroll Taxes Payable'].std()\n",
        "iqr = df['Payroll Taxes Payable'].quantile(0.75) - df['Payroll Taxes Payable'].quantile(0.25)\n",
        "\n",
        "\n",
        "print('Mean:', mean)\n",
        "print('Median:', median)\n",
        "print('Mode:', mode)\n",
        "print('Range:', range)\n",
        "print('Variance:', variance)\n",
        "print('Standard deviation:', standard_deviation)\n",
        "print('IQR:', iqr)"
      ],
      "metadata": {
        "id": "ILAXay-O4edz"
      },
      "execution_count": null,
      "outputs": []
    },
    {
      "cell_type": "code",
      "source": [
        "mean = df['Notes and Loans Payable (Short Term)'].mean()\n",
        "median = df['Notes and Loans Payable (Short Term)'].median()\n",
        "mode = df['Notes and Loans Payable (Short Term)'].mode()\n",
        "\n",
        "range = df['Notes and Loans Payable (Short Term)'].max() - df['Notes and Loans Payable (Short Term)'].min()\n",
        "variance = df['Notes and Loans Payable (Short Term)'].var()\n",
        "standard_deviation = df['Notes and Loans Payable (Short Term)'].std()\n",
        "iqr = df['Notes and Loans Payable (Short Term)'].quantile(0.75) - df['Notes and Loans Payable (Short Term)'].quantile(0.25)\n",
        "\n",
        "\n",
        "print('Mean:', mean)\n",
        "print('Median:', median)\n",
        "print('Mode:', mode)\n",
        "print('Range:', range)\n",
        "print('Variance:', variance)\n",
        "print('Standard deviation:', standard_deviation)\n",
        "print('IQR:', iqr)"
      ],
      "metadata": {
        "id": "Tq4jF74j4ehv"
      },
      "execution_count": null,
      "outputs": []
    },
    {
      "cell_type": "code",
      "source": [
        "mean = df['Deferred Income'].mean()\n",
        "median = df['Deferred Income'].median()\n",
        "mode = df['Deferred Income'].mode()\n",
        "\n",
        "range = df['Deferred Income'].max() - df['Deferred Income'].min()\n",
        "variance = df['Deferred Income'].var()\n",
        "standard_deviation = df['Deferred Income'].std()\n",
        "iqr = df['Deferred Income'].quantile(0.75) - df['Deferred Income'].quantile(0.25)\n",
        "\n",
        "\n",
        "print('Mean:', mean)\n",
        "print('Median:', median)\n",
        "print('Mode:', mode)\n",
        "print('Range:', range)\n",
        "print('Variance:', variance)\n",
        "print('Standard deviation:', standard_deviation)\n",
        "print('IQR:', iqr)"
      ],
      "metadata": {
        "id": "87_HPwb64elJ"
      },
      "execution_count": null,
      "outputs": []
    },
    {
      "cell_type": "code",
      "source": [
        "mean = df['Oher Curren Liabilities'].mean()\n",
        "median = df['Other Curent Liabilities'].median()\n",
        "mode = df['Other Curent Liabilities'].mode()\n",
        "\n",
        "range = df['Other Current Liabilities'].max() - df['Other Current Liabilities'].min()\n",
        "variance = df['Other Current Liabilities'].var()\n",
        "standard_deviation = df['Other Current Liabilities'].std()\n",
        "iqr = df['Other Current Liabilities'].quantile(0.75) - df['Other Current Liabilities'].quantile(0.25)\n",
        "\n",
        "\n",
        "print('Mean:', mean)\n",
        "print('Median:', median)\n",
        "print('Mode:', mode)\n",
        "print('Range:', range)\n",
        "print('Variance:', variance)\n",
        "print('Standard deviation:', standard_deviation)\n",
        "print('IQR:', iqr)"
      ],
      "metadata": {
        "id": "te_h7C_d4epD"
      },
      "execution_count": null,
      "outputs": []
    },
    {
      "cell_type": "code",
      "source": [
        "mean = df['Total Current Liabilities'].mean()\n",
        "median = df['Total Current Liabilities'].median()\n",
        "mode = df['Total Current Liabilities'].mode()\n",
        "\n",
        "range = df['Total Current Liabilities'].max() - df['Total Current Liabilities'].min()\n",
        "variance = df['Total Current Liabilities'].var()\n",
        "standard_deviation = df['Total Current Liabilities'].std()\n",
        "iqr = df['Total Current Liabilities'].quantile(0.75) - df['Total Current Liabilities'].quantile(0.25)\n",
        "\n",
        "\n",
        "print('Mean:', mean)\n",
        "print('Median:', median)\n",
        "print('Mode:', mode)\n",
        "print('Range:', range)\n",
        "print('Variance:', variance)\n",
        "print('Standard deviation:', standard_deviation)\n",
        "print('IQR:', iqr)"
      ],
      "metadata": {
        "id": "TjgnVJcO4es-"
      },
      "execution_count": null,
      "outputs": []
    },
    {
      "cell_type": "code",
      "source": [
        "mean = df['Mortgage Payable'].mean()\n",
        "median = df['Mortgage Payable'].median()\n",
        "mode = df['Mortgage Payable'].mode()\n",
        "\n",
        "range = df['Mortgage Payable'].max() - df['Mortgage Payable'].min()\n",
        "variance = df['Mortgage Payable'].var()\n",
        "standard_deviation = df['Mortgage Payable'].std()\n",
        "iqr = df['Mortgage Payable'].quantile(0.75) - df['Mortgage Payable'].quantile(0.25)\n",
        "\n",
        "\n",
        "print('Mean:', mean)\n",
        "print('Median:', median)\n",
        "print('Mode:', mode)\n",
        "print('Range:', range)\n",
        "print('Variance:', variance)\n",
        "print('Standard deviation:', standard_deviation)\n",
        "print('IQR:', iqr)"
      ],
      "metadata": {
        "id": "J8dk9qL94ew4"
      },
      "execution_count": null,
      "outputs": []
    },
    {
      "cell_type": "code",
      "source": [
        "mean = df['Notes Payable'].mean()\n",
        "median = df['Notes Payable'].median()\n",
        "mode = df['Notes Payable'].mode()\n",
        "\n",
        "range = df['Notes Payable'].max() - df['Notes Payable'].min()\n",
        "variance = df['Notes Payable'].var()\n",
        "standard_deviation = df['Notes Payable'].std()\n",
        "iqr = df['Notes Payable'].quantile(0.75) - df['Notes Payable'].quantile(0.25)\n",
        "\n",
        "\n",
        "print('Mean:', mean)\n",
        "print('Median:', median)\n",
        "print('Mode:', mode)\n",
        "print('Range:', range)\n",
        "print('Variance:', variance)\n",
        "print('Standard deviation:', standard_deviation)\n",
        "print('IQR:', iqr)"
      ],
      "metadata": {
        "id": "KfAfMtNX4e0z"
      },
      "execution_count": null,
      "outputs": []
    },
    {
      "cell_type": "code",
      "source": [
        "mean = df['Unsecured Loans'].mean()\n",
        "median = df['Unsecured Loans'].median()\n",
        "mode = df['Unsecured Loans'].mode()\n",
        "\n",
        "range = df['Unsecured Loans'].max() - df['Unsecured Loans'].min()\n",
        "variance = df['Unsecured Loans'].var()\n",
        "standard_deviation = df['Unsecured Loans'].std()\n",
        "iqr = df['Unsecured Loans'].quantile(0.75) - df['Unsecured Loans'].quantile(0.25)\n",
        "\n",
        "\n",
        "print('Mean:', mean)\n",
        "print('Median:', median)\n",
        "print('Mode:', mode)\n",
        "print('Range:', range)\n",
        "print('Variance:', variance)\n",
        "print('Standard deviation:', standard_deviation)\n",
        "print('IQR:', iqr)"
      ],
      "metadata": {
        "id": "WIjc2u1s4e42"
      },
      "execution_count": null,
      "outputs": []
    },
    {
      "cell_type": "code",
      "source": [
        "mean = df['Other Long Term Liabilities'].mean()\n",
        "median = df['Other Long Term Liabilities'].median()\n",
        "mode = df['Other Long Term Liabilities'].mode()\n",
        "\n",
        "range = df['Other Long Term Liabilities'].max() - df['Other Long Term Liabilities'].min()\n",
        "variance = df['Other Long Term Liabilities'].var()\n",
        "standard_deviation = df['Other Long Term Liabilities'].std()\n",
        "iqr = df['Other Long Term Liabilities'].quantile(0.75) - df['Other Long Term Liabilities'].quantile(0.25)\n",
        "\n",
        "\n",
        "print('Mean:', mean)\n",
        "print('Median:', median)\n",
        "print('Mode:', mode)\n",
        "print('Range:', range)\n",
        "print('Variance:', variance)\n",
        "print('Standard deviation:', standard_deviation)\n",
        "print('IQR:', iqr)"
      ],
      "metadata": {
        "id": "6QnH4H3n4e8f"
      },
      "execution_count": null,
      "outputs": []
    },
    {
      "cell_type": "code",
      "source": [
        "mean = df['Total Long Term Liabilities'].mean()\n",
        "median = df['Total Long Term Liabilities'].median()\n",
        "mode = df['Total Long Term Liabilities'].mode()\n",
        "\n",
        "range = df['Total Long Term Liabilities'].max() - df['Total Long Term Liabilities'].min()\n",
        "variance = df['Total Long Term Liabilities'].var()\n",
        "standard_deviation = df['Total Long Term Liabilities'].std()\n",
        "iqr = df['Total Long Term Liabilities'].quantile(0.75) - df['Total Long Term Liabilities'].quantile(0.25)\n",
        "\n",
        "\n",
        "print('Mean:', mean)\n",
        "print('Median:', median)\n",
        "print('Mode:', mode)\n",
        "print('Range:', range)\n",
        "print('Variance:', variance)\n",
        "print('Standard deviation:', standard_deviation)\n",
        "print('IQR:', iqr)"
      ],
      "metadata": {
        "id": "S-lGyG0P4fBL"
      },
      "execution_count": null,
      "outputs": []
    },
    {
      "cell_type": "code",
      "source": [
        "mean = df['Total Liabilities'].mean()\n",
        "median = df['Total Liabilities'].median()\n",
        "mode = df['Total Liabilities'].mode()\n",
        "\n",
        "range = df['Total Liabilities'].max() - df['Total Liabilities'].min()\n",
        "variance = df['Total Liabilities'].var()\n",
        "standard_deviation = df['Total Liabilities'].std()\n",
        "iqr = df['Total Liabilities'].quantile(0.75) - df['Total Liabilities'].quantile(0.25)\n",
        "\n",
        "\n",
        "print('Mean:', mean)\n",
        "print('Median:', median)\n",
        "print('Mode:', mode)\n",
        "print('Range:', range)\n",
        "print('Variance:', variance)\n",
        "print('Standard deviation:', standard_deviation)\n",
        "print('IQR:', iqr)"
      ],
      "metadata": {
        "id": "qdI-7Mhs4fFY"
      },
      "execution_count": null,
      "outputs": []
    },
    {
      "cell_type": "code",
      "source": [
        "mean = df['General Fund Balance'].mean()\n",
        "median = df['General Fund Balance'].median()\n",
        "mode = df['General Fund Balance'].mode()\n",
        "\n",
        "range = df['General Fund Balance'].max() - df['General Fund Balance'].min()\n",
        "variance = df['General Fund Balance'].var()\n",
        "standard_deviation = df['General Fund Balance'].std()\n",
        "iqr = df['General Fund Balance'].quantile(0.75) - df['General Fund Balance'].quantile(0.25)\n",
        "\n",
        "\n",
        "print('Mean:', mean)\n",
        "print('Median:', median)\n",
        "print('Mode:', mode)\n",
        "print('Range:', range)\n",
        "print('Variance:', variance)\n",
        "print('Standard deviation:', standard_deviation)\n",
        "print('IQR:', iqr)"
      ],
      "metadata": {
        "id": "Wiahw_oj4fL5"
      },
      "execution_count": null,
      "outputs": []
    },
    {
      "cell_type": "code",
      "source": [
        "mean = df['Total Fund Balances'].mean()\n",
        "median = df['Total Fund Balances'].median()\n",
        "mode = df['Total Fund Balances'].mode()\n",
        "\n",
        "range = df['Total Fund Balances'].max() - df['Total Fund Balances'].min()\n",
        "variance = df['Total Fund Balances'].var()\n",
        "standard_deviation = df['Total Fund Balances'].std()\n",
        "iqr = df['Total Fund Balances'].quantile(0.75) - df['Total Fund Balances'].quantile(0.25)\n",
        "\n",
        "\n",
        "print('Mean:', mean)\n",
        "print('Median:', median)\n",
        "print('Mode:', mode)\n",
        "print('Range:', range)\n",
        "print('Variance:', variance)\n",
        "print('Standard deviation:', standard_deviation)\n",
        "print('IQR:', iqr)"
      ],
      "metadata": {
        "id": "xYy0cVyM5_aP"
      },
      "execution_count": null,
      "outputs": []
    },
    {
      "cell_type": "code",
      "source": [
        "mean = df['Total Liabilities and Fund Balances'].mean()\n",
        "median = df['Total Liabilities and Fund Balances'].median()\n",
        "mode = df['Total Liabilities and Fund Balances'].mode()\n",
        "\n",
        "range = df['Total Liabilities and Fund Balances'].max() - df['Total Liabilities and Fund Balances'].min()\n",
        "variance = df['Total Liabilities and Fund Balances'].var()\n",
        "standard_deviation = df['Total Liabilities and Fund Balances'].std()\n",
        "iqr = df['Total Liabilities and Fund Balances'].quantile(0.75) - df['Total Liabilities and Fund Balances'].quantile(0.25)\n",
        "\n",
        "\n",
        "print('Mean:', mean)\n",
        "print('Median:', median)\n",
        "print('Mode:', mode)\n",
        "print('Range:', range)\n",
        "print('Variance:', variance)\n",
        "print('Standard deviation:', standard_deviation)\n",
        "print('IQR:', iqr)"
      ],
      "metadata": {
        "id": "nkGYOuvB5_eb"
      },
      "execution_count": null,
      "outputs": []
    },
    {
      "cell_type": "code",
      "source": [
        "mean = df['DRG Amounts Other Than Outlier Payments'].mean()\n",
        "median = df['DRG Amounts Other Than Outlier Payments'].median()\n",
        "mode = df['DRG Amounts Other Than Outlier Payments'].mode()\n",
        "\n",
        "range = df['DRG Amounts Other Than Outlier Payments'].max() - df['DRG Amounts Other Than Outlier Payments'].min()\n",
        "variance = df['DRG Amounts Other Than Outlier Payments'].var()\n",
        "standard_deviation = df['DRG Amounts Other Than Outlier Payments'].std()\n",
        "iqr = df['DRG Amounts Other Than Outlier Payments'].quantile(0.75) - df['DRG Amounts Other Than Outlier Payments'].quantile(0.25)\n",
        "\n",
        "\n",
        "print('Mean:', mean)\n",
        "print('Median:', median)\n",
        "print('Mode:', mode)\n",
        "print('Range:', range)\n",
        "print('Variance:', variance)\n",
        "print('Standard deviation:', standard_deviation)\n",
        "print('IQR:', iqr)"
      ],
      "metadata": {
        "id": "zruB2ZIp5_hH"
      },
      "execution_count": null,
      "outputs": []
    },
    {
      "cell_type": "code",
      "source": [
        "mean = df['DRG amounts before October 1'].mean()\n",
        "median = df['DRG amounts before October 1'].median()\n",
        "mode = df['DRG amounts before October 1'].mode()\n",
        "\n",
        "range = df['DRG amounts before October 1'].max() - df['DRG amounts before October 1'].min()\n",
        "variance = df['DRG amounts before October 1'].var()\n",
        "standard_deviation = df['DRG amounts before October 1'].std()\n",
        "iqr = df['DRG amounts before October 1'].quantile(0.75) - df['DRG amounts before October 1'].quantile(0.25)\n",
        "\n",
        "\n",
        "print('Mean:', mean)\n",
        "print('Median:', median)\n",
        "print('Mode:', mode)\n",
        "print('Range:', range)\n",
        "print('Variance:', variance)\n",
        "print('Standard deviation:', standard_deviation)\n",
        "print('IQR:', iqr)"
      ],
      "metadata": {
        "id": "LfQaXjYu5_kK"
      },
      "execution_count": null,
      "outputs": []
    },
    {
      "cell_type": "code",
      "source": [
        "mean = df['DRG amounts after October 1'].mean()\n",
        "median = df['DRG amounts after October 1'].median()\n",
        "mode = df['DRG amounts after October 1'].mode()\n",
        "\n",
        "range = df['DRG amounts after October 1'].max() - df['DRG amounts after October 1'].min()\n",
        "variance = df['DRG amounts after October 1'].var()\n",
        "standard_deviation = df['DRG amounts after October 1'].std()\n",
        "iqr = df['DRG amounts after October 1'].quantile(0.75) - df['DRG amounts after October 1'].quantile(0.25)\n",
        "\n",
        "\n",
        "print('Mean:', mean)\n",
        "print('Median:', median)\n",
        "print('Mode:', mode)\n",
        "print('Range:', range)\n",
        "print('Variance:', variance)\n",
        "print('Standard deviation:', standard_deviation)\n",
        "print('IQR:', iqr)"
      ],
      "metadata": {
        "id": "KshXj16a5_nt"
      },
      "execution_count": null,
      "outputs": []
    },
    {
      "cell_type": "code",
      "source": [
        "mean = df['Outlier payments for discharges'].mean()\n",
        "median = df['Outlier payments for discharges'].median()\n",
        "mode = df['Outlier payments for discharges'].mode()\n",
        "\n",
        "range = df['Outlier payments for discharges'].max() - df['Outlier payments for discharges'].min()\n",
        "variance = df['Outlier payments for discharges'].var()\n",
        "standard_deviation = df['Outlier payments for discharges'].std()\n",
        "iqr = df['Outlier payments for discharges'].quantile(0.75) - df['Outlier payments for discharges'].quantile(0.25)\n",
        "\n",
        "\n",
        "print('Mean:', mean)\n",
        "print('Median:', median)\n",
        "print('Mode:', mode)\n",
        "print('Range:', range)\n",
        "print('Variance:', variance)\n",
        "print('Standard deviation:', standard_deviation)\n",
        "print('IQR:', iqr)"
      ],
      "metadata": {
        "id": "zkGdQlVb5_rP"
      },
      "execution_count": null,
      "outputs": []
    },
    {
      "cell_type": "code",
      "source": [
        "mean = df['Disproportionate Share Adjustment'].mean()\n",
        "median = df['Disproportionate Share Adjustment'].median()\n",
        "mode = df['Disproportionate Share Adjustment'].mode()\n",
        "\n",
        "range = df['Disproportionate Share Adjustment'].max() - df['Disproportionate Share Adjustment'].min()\n",
        "variance = df['Disproportionate Share Adjustment'].var()\n",
        "standard_deviation = df['Disproportionate Share Adjustment'].std()\n",
        "iqr = df['Disproportionate Share Adjustment'].quantile(0.75) - df['Disproportionate Share Adjustment'].quantile(0.25)\n",
        "\n",
        "\n",
        "print('Mean:', mean)\n",
        "print('Median:', median)\n",
        "print('Mode:', mode)\n",
        "print('Range:', range)\n",
        "print('Variance:', variance)\n",
        "print('Standard deviation:', standard_deviation)\n",
        "print('IQR:', iqr)"
      ],
      "metadata": {
        "id": "8mGyrHtx5_uz"
      },
      "execution_count": null,
      "outputs": []
    },
    {
      "cell_type": "code",
      "source": [
        "mean = df['Allowable DSH Percentage'].mean()\n",
        "median = df['Allowable DSH Percentage'].median()\n",
        "mode = df['Allowable DSH Percentage'].mode()\n",
        "\n",
        "range = df['Allowable DSH Percentage'].max() - df['Allowable DSH Percentage'].min()\n",
        "variance = df['Allowable DSH Percentage'].var()\n",
        "standard_deviation = df['Allowable DSH Percentage'].std()\n",
        "iqr = df['Allowable DSH Percentage'].quantile(0.75) - df['Allowable DSH Percentage'].quantile(0.25)\n",
        "\n",
        "\n",
        "print('Mean:', mean)\n",
        "print('Median:', median)\n",
        "print('Mode:', mode)\n",
        "print('Range:', range)\n",
        "print('Variance:', variance)\n",
        "print('Standard deviation:', standard_deviation)\n",
        "print('IQR:', iqr)"
      ],
      "metadata": {
        "id": "3ebtv0wZ5_yL"
      },
      "execution_count": null,
      "outputs": []
    },
    {
      "cell_type": "code",
      "source": [
        "mean = df['Managed Care Simulated Payments'].mean()\n",
        "median = df['Managed Care Simulated Payments'].median()\n",
        "mode = df['Managed Care Simulated Payments'].mode()\n",
        "\n",
        "range = df['Managed Care Simulated Payments'].max() - df['Managed Care Simulated Payments'].min()\n",
        "variance = df['Managed Care Simulated Payments'].var()\n",
        "standard_deviation = df['Managed Care Simulated Payments'].std()\n",
        "iqr = df['Managed Care Simulated Payments'].quantile(0.75) - df['Managed Care Simulated Payments'].quantile(0.25)\n",
        "\n",
        "\n",
        "print('Mean:', mean)\n",
        "print('Median:', median)\n",
        "print('Mode:', mode)\n",
        "print('Range:', range)\n",
        "print('Variance:', variance)\n",
        "print('Standard deviation:', standard_deviation)\n",
        "print('IQR:', iqr)"
      ],
      "metadata": {
        "id": "O6reuqv95_1e"
      },
      "execution_count": null,
      "outputs": []
    },
    {
      "cell_type": "code",
      "source": [
        "mean = df['Total IME Payment'].mean()\n",
        "median = df['Total IME Payment'].median()\n",
        "mode = df['Total IME Payment'].mode()\n",
        "\n",
        "range = df['Total IME Payment'].max() - df['Total IME Payment'].min()\n",
        "variance = df['Total IME Payment'].var()\n",
        "standard_deviation = df['Total IME Payment'].std()\n",
        "iqr = df['Total IME Payment'].quantile(0.75) - df['Total IME Payment'].quantile(0.25)\n",
        "\n",
        "\n",
        "print('Mean:', mean)\n",
        "print('Median:', median)\n",
        "print('Mode:', mode)\n",
        "print('Range:', range)\n",
        "print('Variance:', variance)\n",
        "print('Standard deviation:', standard_deviation)\n",
        "print('IQR:', iqr)"
      ],
      "metadata": {
        "id": "polwbTp45_4n"
      },
      "execution_count": null,
      "outputs": []
    },
    {
      "cell_type": "code",
      "source": [
        "mean = df['Inpatient Revenue'].mean()\n",
        "median = df['Inpatient Revenue'].median()\n",
        "mode = df['Inpatient Revenue'].mode()\n",
        "\n",
        "range = df['Inpatient Revenue'].max() - df['Inpatient Revenue'].min()\n",
        "variance = df['Inpatient Revenue'].var()\n",
        "standard_deviation = df['Inpatient Revenue'].std()\n",
        "iqr = df['Inpatient Revenue'].quantile(0.75) - df['Inpatient Revenue'].quantile(0.25)\n",
        "\n",
        "\n",
        "print('Mean:', mean)\n",
        "print('Median:', median)\n",
        "print('Mode:', mode)\n",
        "print('Range:', range)\n",
        "print('Variance:', variance)\n",
        "print('Standard deviation:', standard_deviation)\n",
        "print('IQR:', iqr)"
      ],
      "metadata": {
        "id": "2FeNqPsZ604u"
      },
      "execution_count": null,
      "outputs": []
    },
    {
      "cell_type": "code",
      "source": [
        "mean = df['Outpatient Revenue'].mean()\n",
        "median = df['Outpatient Revenue'].median()\n",
        "mode = df['Outpatient Revenue'].mode()\n",
        "\n",
        "range = df['Outpatient Revenue'].max() - df['Outpatient Revenue'].min()\n",
        "variance = df['Outpatient Revenue'].var()\n",
        "standard_deviation = df['Outpatient Revenue'].std()\n",
        "iqr = df['Outpatient Revenue'].quantile(0.75) - df['Outpatient Revenue'].quantile(0.25)\n",
        "\n",
        "\n",
        "print('Mean:', mean)\n",
        "print('Median:', median)\n",
        "print('Mode:', mode)\n",
        "print('Range:', range)\n",
        "print('Variance:', variance)\n",
        "print('Standard deviation:', standard_deviation)\n",
        "print('IQR:', iqr)"
      ],
      "metadata": {
        "id": "8uTtplmJ609A"
      },
      "execution_count": null,
      "outputs": []
    },
    {
      "cell_type": "code",
      "source": [
        "mean = df['Gross Revenue'].mean()\n",
        "median = df['Gross Revenue'].median()\n",
        "mode = df['Gross Revenue'].mode()\n",
        "\n",
        "range = df['Gross Revenue'].max() - df['Gross Revenue'].min()\n",
        "variance = df['Gross Revenue'].var()\n",
        "standard_deviation = df['Gross Revenue'].std()\n",
        "iqr = df['Gross Revenue'].quantile(0.75) - df['Gross Revenue'].quantile(0.25)\n",
        "\n",
        "\n",
        "print('Mean:', mean)\n",
        "print('Median:', median)\n",
        "print('Mode:', mode)\n",
        "print('Range:', range)\n",
        "print('Variance:', variance)\n",
        "print('Standard deviation:', standard_deviation)\n",
        "print('IQR:', iqr)"
      ],
      "metadata": {
        "id": "LNmSabAv61Ax"
      },
      "execution_count": null,
      "outputs": []
    },
    {
      "cell_type": "code",
      "source": [
        "mean = df['Less Contractual Allowance and discounts on patients' accounts'].mean()\n",
        "median = df['Less Contractual Allowance and discounts on patients' accounts'].median()\n",
        "mode = df['Less Contractual Allowance and discounts on patients' accounts'].mode()\n",
        "\n",
        "range = df['Less Contractual Allowance and discounts on patients' accounts'].max() - df['Less Contractual Allowance and discounts on patients' accounts'].min()\n",
        "variance = df['Less Contractual Allowance and discounts on patients' accounts'].var()\n",
        "standard_deviation = df['Less Contractual Allowance and discounts on patients' accounts'].std()\n",
        "iqr = df['Less Contractual Allowance and discounts on patients' accounts'].quantile(0.75) - df['Less Contractual Allowance and discounts on patients' accounts'].quantile(0.25)\n",
        "\n",
        "\n",
        "print('Mean:', mean)\n",
        "print('Median:', median)\n",
        "print('Mode:', mode)\n",
        "print('Range:', range)\n",
        "print('Variance:', variance)\n",
        "print('Standard deviation:', standard_deviation)\n",
        "print('IQR:', iqr)"
      ],
      "metadata": {
        "id": "hQJHV2lX61Fd"
      },
      "execution_count": null,
      "outputs": []
    },
    {
      "cell_type": "code",
      "source": [
        "mean = df['Net Patient Revenue'].mean()\n",
        "median = df['Net Patient Revenue'].median()\n",
        "mode = df['Net Patient Revenue'].mode()\n",
        "\n",
        "range = df['Net Patient Revenue'].max() - df['Net Patient Revenue'].min()\n",
        "variance = df['Net Patient Revenue'].var()\n",
        "standard_deviation = df['Net Patient Revenue'].std()\n",
        "iqr = df['Net Patient Revenue'].quantile(0.75) - df['Net Patient Revenue'].quantile(0.25)\n",
        "\n",
        "\n",
        "print('Mean:', mean)\n",
        "print('Median:', median)\n",
        "print('Mode:', mode)\n",
        "print('Range:', range)\n",
        "print('Variance:', variance)\n",
        "print('Standard deviation:', standard_deviation)\n",
        "print('IQR:', iqr)"
      ],
      "metadata": {
        "id": "T21fmeRl61KP"
      },
      "execution_count": null,
      "outputs": []
    },
    {
      "cell_type": "code",
      "source": [
        "mean = df['Net Income from Service to Patients'].mean()\n",
        "median = df['Net Income from Service to Patients'].median()\n",
        "mode = df['Net Income from Service to Patients'].mode()\n",
        "\n",
        "range = df['Net Income from Service to Patients'].max() - df['Net Income from Service to Patients'].min()\n",
        "variance = df['Net Income from Service to Patients'].var()\n",
        "standard_deviation = df['Net Income from Service to Patients'].std()\n",
        "iqr = df['Net Income from Service to Patients'].quantile(0.75) - df['Net Income from Service to Patients'].quantile(0.25)\n",
        "\n",
        "\n",
        "print('Mean:', mean)\n",
        "print('Median:', median)\n",
        "print('Mode:', mode)\n",
        "print('Range:', range)\n",
        "print('Variance:', variance)\n",
        "print('Standard deviation:', standard_deviation)\n",
        "print('IQR:', iqr)"
      ],
      "metadata": {
        "id": "GXI3ksbr7i4l"
      },
      "execution_count": null,
      "outputs": []
    },
    {
      "cell_type": "code",
      "source": [
        "mean = df['Total Other Income'].mean()\n",
        "median = df['Total Other Income'].median()\n",
        "mode = df['Total Other Income'].mode()\n",
        "\n",
        "range = df['Total Other Income'].max() - df['Total Other Income'].min()\n",
        "variance = df['Total Other Income'].var()\n",
        "standard_deviation = df['Total Other Income'].std()\n",
        "iqr = df['Total Other Income'].quantile(0.75) - df['Total Other Income'].quantile(0.25)\n",
        "\n",
        "\n",
        "print('Mean:', mean)\n",
        "print('Median:', median)\n",
        "print('Mode:', mode)\n",
        "print('Range:', range)\n",
        "print('Variance:', variance)\n",
        "print('Standard deviation:', standard_deviation)\n",
        "print('IQR:', iqr)"
      ],
      "metadata": {
        "id": "UjgEktB77i8u"
      },
      "execution_count": null,
      "outputs": []
    },
    {
      "cell_type": "code",
      "source": [
        "mean = df['Total Income'].mean()\n",
        "median = df['Total Income'].median()\n",
        "mode = df['Total Income'].mode()\n",
        "\n",
        "range = df['Total Income'].max() - df['Total Income'].min()\n",
        "variance = df['Total Income'].var()\n",
        "standard_deviation = df['Total Income'].std()\n",
        "iqr = df['Total Income'].quantile(0.75) - df['Total Income'].quantile(0.25)\n",
        "\n",
        "\n",
        "print('Mean:', mean)\n",
        "print('Median:', median)\n",
        "print('Mode:', mode)\n",
        "print('Range:', range)\n",
        "print('Variance:', variance)\n",
        "print('Standard deviation:', standard_deviation)\n",
        "print('IQR:', iqr)"
      ],
      "metadata": {
        "id": "yS_xQu8o7jAn"
      },
      "execution_count": null,
      "outputs": []
    },
    {
      "cell_type": "code",
      "source": [
        "mean = df['Total Other Expenses'].mean()\n",
        "median = df['Total Other Expenses'].median()\n",
        "mode = df['Total Other Expenses'].mode()\n",
        "\n",
        "range = df['Total Other Expenses'].max() - df['Total Other Expenses'].min()\n",
        "variance = df['Total Other Expenses'].var()\n",
        "standard_deviation = df['Total Other Expenses'].std()\n",
        "iqr = df['Total Other Expenses'].quantile(0.75) - df['Total Other Expenses'].quantile(0.25)\n",
        "\n",
        "\n",
        "print('Mean:', mean)\n",
        "print('Median:', median)\n",
        "print('Mode:', mode)\n",
        "print('Range:', range)\n",
        "print('Variance:', variance)\n",
        "print('Standard deviation:', standard_deviation)\n",
        "print('IQR:', iqr)"
      ],
      "metadata": {
        "id": "ITPfzLpH7jD7"
      },
      "execution_count": null,
      "outputs": []
    },
    {
      "cell_type": "code",
      "source": [
        "mean = df['Net Income'].mean()\n",
        "median = df['Net Income'].median()\n",
        "mode = df['Net Income'].mode()\n",
        "\n",
        "range = df['Net Income'].max() - df['Net Income'].min()\n",
        "variance = df['Net Income'].var()\n",
        "standard_deviation = df['Net Income'].std()\n",
        "iqr = df['Net Income'].quantile(0.75) - df['Net Income'].quantile(0.25)\n",
        "\n",
        "\n",
        "print('Mean:', mean)\n",
        "print('Median:', median)\n",
        "print('Mode:', mode)\n",
        "print('Range:', range)\n",
        "print('Variance:', variance)\n",
        "print('Standard deviation:', standard_deviation)\n",
        "print('IQR:', iqr)"
      ],
      "metadata": {
        "id": "9HnMQrDO7jHU"
      },
      "execution_count": null,
      "outputs": []
    },
    {
      "cell_type": "code",
      "source": [
        "mean = df['Cost To Charge Ratio'].mean()\n",
        "median = df['Cost To Charge Ratio'].median()\n",
        "mode = df['Cost To Charge Ratio'].mode()\n",
        "\n",
        "range = df['Cost To Charge Ratio'].max() - df['Cost To Charge Ratio'].min()\n",
        "variance = df['Cost To Charge Ratio'].var()\n",
        "standard_deviation = df['Cost To Charge Ratio'].std()\n",
        "iqr = df['Cost To Charge Ratio'].quantile(0.75) - df['Cost To Charge Ratio'].quantile(0.25)\n",
        "\n",
        "\n",
        "print('Mean:', mean)\n",
        "print('Median:', median)\n",
        "print('Mode:', mode)\n",
        "print('Range:', range)\n",
        "print('Variance:', variance)\n",
        "print('Standard deviation:', standard_deviation)\n",
        "print('IQR:', iqr)"
      ],
      "metadata": {
        "id": "ZdmJM7zy7jLg"
      },
      "execution_count": null,
      "outputs": []
    },
    {
      "cell_type": "code",
      "source": [
        "mean = df['Net Revenue from Medicaid'].mean()\n",
        "median = df['Net Revenue from Medicaid'].median()\n",
        "mode = df['Net Revenue from Medicaid'].mode()\n",
        "\n",
        "range = df['Net Revenue from Medicaid'].max() - df['Net Revenue from Medicaid'].min()\n",
        "variance = df['Net Revenue from Medicaid'].var()\n",
        "standard_deviation = df['Net Revenue from Medicaid'].std()\n",
        "iqr = df['Net Revenue from Medicaid'].quantile(0.75) - df['Net Revenue from Medicaid'].quantile(0.25)\n",
        "\n",
        "\n",
        "print('Mean:', mean)\n",
        "print('Median:', median)\n",
        "print('Mode:', mode)\n",
        "print('Range:', range)\n",
        "print('Variance:', variance)\n",
        "print('Standard deviation:', standard_deviation)\n",
        "print('IQR:', iqr)"
      ],
      "metadata": {
        "id": "8MGULBBc7jPi"
      },
      "execution_count": null,
      "outputs": []
    },
    {
      "cell_type": "code",
      "source": [
        "mean = df['Medicaid Charges'].mean()\n",
        "median = df['Medicaid Charges'].median()\n",
        "mode = df['Medicaid Charges'].mode()\n",
        "\n",
        "range = df['Medicaid Charges'].max() - df['Medicaid Charges'].min()\n",
        "variance = df['Medicaid Charges'].var()\n",
        "standard_deviation = df['Medicaid Charges'].std()\n",
        "iqr = df['Medicaid Charges'].quantile(0.75) - df['Medicaid Charges'].quantile(0.25)\n",
        "\n",
        "\n",
        "print('Mean:', mean)\n",
        "print('Median:', median)\n",
        "print('Mode:', mode)\n",
        "print('Range:', range)\n",
        "print('Variance:', variance)\n",
        "print('Standard deviation:', standard_deviation)\n",
        "print('IQR:', iqr)"
      ],
      "metadata": {
        "id": "o7AncjDC8Lc_"
      },
      "execution_count": null,
      "outputs": []
    },
    {
      "cell_type": "code",
      "source": [
        "mean = df['Net Revenue from Stand-Alone SCHIP'].mean()\n",
        "median = df['Net Revenue from Stand-Alone SCHIP'].median()\n",
        "mode = df['Net Revenue from Stand-Alone SCHIP'].mode()\n",
        "\n",
        "range = df['Net Revenue from Stand-Alone SCHIP'].max() - df['Net Revenue from Stand-Alone SCHIP'].min()\n",
        "variance = df['Net Revenue from Stand-Alone SCHIP'].var()\n",
        "standard_deviation = df['Net Revenue from Stand-Alone SCHIP'].std()\n",
        "iqr = df['Net Revenue from Stand-Alone SCHIP'].quantile(0.75) - df['Net Revenue from Stand-Alone SCHIP'].quantile(0.25)\n",
        "\n",
        "\n",
        "print('Mean:', mean)\n",
        "print('Median:', median)\n",
        "print('Mode:', mode)\n",
        "print('Range:', range)\n",
        "print('Variance:', variance)\n",
        "print('Standard deviation:', standard_deviation)\n",
        "print('IQR:', iqr)"
      ],
      "metadata": {
        "id": "9uiUaEMz8LgX"
      },
      "execution_count": null,
      "outputs": []
    },
    {
      "cell_type": "code",
      "source": [
        "mean = df['Stand-Alone SCHIP Charges'].mean()\n",
        "median = df['Stand-Alone SCHIP Charges'].median()\n",
        "mode = df['Stand-Alone SCHIP Charges'].mode()\n",
        "\n",
        "range = df['Stand-Alone SCHIP Charges'].max() - df['Stand-Alone SCHIP Charges'].min()\n",
        "variance = df['Stand-Alone SCHIP Charges'].var()\n",
        "standard_deviation = df['Stand-Alone SCHIP Charges'].std()\n",
        "iqr = df['Stand-Alone SCHIP Charges'].quantile(0.75) - df['Stand-Alone SCHIP Charges'].quantile(0.25)\n",
        "\n",
        "\n",
        "print('Mean:', mean)\n",
        "print('Median:', median)\n",
        "print('Mode:', mode)\n",
        "print('Range:', range)\n",
        "print('Variance:', variance)\n",
        "print('Standard deviation:', standard_deviation)\n",
        "print('IQR:', iqr)"
      ],
      "metadata": {
        "id": "R-uwaEdE8Lkh"
      },
      "execution_count": null,
      "outputs": []
    },
    {
      "cell_type": "markdown",
      "source": [
        "## Bivariate Analysis"
      ],
      "metadata": {
        "id": "W7LEPqb-uR9a"
      }
    },
    {
      "cell_type": "markdown",
      "source": [
        "## Handling Outliers"
      ],
      "metadata": {
        "id": "8YGLa8uZuY0w"
      }
    },
    {
      "cell_type": "markdown",
      "source": [
        "## Automated Analysis"
      ],
      "metadata": {
        "id": "pseA5Vpvucbb"
      }
    },
    {
      "cell_type": "code",
      "source": [
        "import pandas as pd\n",
        "from pandas_profiling import ProfileReport\n",
        "\n",
        "# Load your dataset\n",
        "data = pd.read_csv('/content/drive/MyDrive/Hospital_Cost_Report_2019.csv')\n",
        "\n",
        "# Generate the EDA report\n",
        "report = ProfileReport(data)\n",
        "report.to_file('eda_report.html')"
      ],
      "metadata": {
        "colab": {
          "base_uri": "https://localhost:8080/",
          "height": 393
        },
        "id": "IixBBwspumzq",
        "outputId": "a6e65d85-5be4-433e-b50b-4706d5f4537b"
      },
      "execution_count": 48,
      "outputs": [
        {
          "output_type": "error",
          "ename": "ModuleNotFoundError",
          "evalue": "ignored",
          "traceback": [
            "\u001b[0;31m---------------------------------------------------------------------------\u001b[0m",
            "\u001b[0;31mModuleNotFoundError\u001b[0m                       Traceback (most recent call last)",
            "\u001b[0;32m<ipython-input-48-be2d377d7630>\u001b[0m in \u001b[0;36m<cell line: 2>\u001b[0;34m()\u001b[0m\n\u001b[1;32m      1\u001b[0m \u001b[0;32mimport\u001b[0m \u001b[0mpandas\u001b[0m \u001b[0;32mas\u001b[0m \u001b[0mpd\u001b[0m\u001b[0;34m\u001b[0m\u001b[0;34m\u001b[0m\u001b[0m\n\u001b[0;32m----> 2\u001b[0;31m \u001b[0;32mfrom\u001b[0m \u001b[0mpandas_profiling\u001b[0m \u001b[0;32mimport\u001b[0m \u001b[0mProfileReport\u001b[0m\u001b[0;34m\u001b[0m\u001b[0;34m\u001b[0m\u001b[0m\n\u001b[0m\u001b[1;32m      3\u001b[0m \u001b[0;34m\u001b[0m\u001b[0m\n\u001b[1;32m      4\u001b[0m \u001b[0;31m# Load your dataset\u001b[0m\u001b[0;34m\u001b[0m\u001b[0;34m\u001b[0m\u001b[0m\n\u001b[1;32m      5\u001b[0m \u001b[0mdata\u001b[0m \u001b[0;34m=\u001b[0m \u001b[0mpd\u001b[0m\u001b[0;34m.\u001b[0m\u001b[0mread_csv\u001b[0m\u001b[0;34m(\u001b[0m\u001b[0;34m'/content/drive/MyDrive/Hospital_Cost_Report_2019.csv'\u001b[0m\u001b[0;34m)\u001b[0m\u001b[0;34m\u001b[0m\u001b[0;34m\u001b[0m\u001b[0m\n",
            "\u001b[0;31mModuleNotFoundError\u001b[0m: No module named 'pandas_profiling'",
            "",
            "\u001b[0;31m---------------------------------------------------------------------------\u001b[0;32m\nNOTE: If your import is failing due to a missing package, you can\nmanually install dependencies using either !pip or !apt.\n\nTo view examples of installing some common dependencies, click the\n\"Open Examples\" button below.\n\u001b[0;31m---------------------------------------------------------------------------\u001b[0m\n"
          ],
          "errorDetails": {
            "actions": [
              {
                "action": "open_url",
                "actionText": "Open Examples",
                "url": "/notebooks/snippets/importing_libraries.ipynb"
              }
            ]
          }
        }
      ]
    }
  ]
}