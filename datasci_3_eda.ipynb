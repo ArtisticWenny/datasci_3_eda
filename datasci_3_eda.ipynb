{
  "nbformat": 4,
  "nbformat_minor": 0,
  "metadata": {
    "colab": {
      "provenance": [],
      "authorship_tag": "ABX9TyPwNCtpjDCFHwyuzczyGxAV",
      "include_colab_link": true
    },
    "kernelspec": {
      "name": "python3",
      "display_name": "Python 3"
    },
    "language_info": {
      "name": "python"
    }
  },
  "cells": [
    {
      "cell_type": "markdown",
      "metadata": {
        "id": "view-in-github",
        "colab_type": "text"
      },
      "source": [
        "<a href=\"https://colab.research.google.com/github/ArtisticWenny/datasci_3_eda/blob/main/datasci_3_eda.ipynb\" target=\"_parent\"><img src=\"https://colab.research.google.com/assets/colab-badge.svg\" alt=\"Open In Colab\"/></a>"
      ]
    },
    {
      "cell_type": "code",
      "execution_count": 10,
      "metadata": {
        "colab": {
          "base_uri": "https://localhost:8080/"
        },
        "id": "xmePF_Mqw6Nz",
        "outputId": "a60433c5-8100-4229-f7fe-89b7f1320dfe"
      },
      "outputs": [
        {
          "output_type": "stream",
          "name": "stdout",
          "text": [
            "Mounted at /content/drive\n"
          ]
        }
      ],
      "source": [
        "from google.colab import drive\n",
        "\n",
        "drive.mount('/content/drive')"
      ]
    },
    {
      "cell_type": "code",
      "source": [],
      "metadata": {
        "id": "6Vsxuybw9LI1"
      },
      "execution_count": null,
      "outputs": []
    },
    {
      "cell_type": "markdown",
      "source": [
        "Import Google Drive"
      ],
      "metadata": {
        "id": "WCUYHDrU9LhF"
      }
    },
    {
      "cell_type": "code",
      "source": [
        "import pandas as pd\n",
        "\n",
        "csv_file_path = ['/content/drive/MyDrive/Hospital_Cost_Report_2019.csv']\n",
        "\n",
        "df = pd.read_csv('/content/drive/MyDrive/Hospital_Cost_Report_2019.csv')\n",
        "\n",
        "print(df.head)"
      ],
      "metadata": {
        "colab": {
          "base_uri": "https://localhost:8080/"
        },
        "id": "otqQi4c79wIk",
        "outputId": "5f11403f-0742-4258-a7b6-c5b531f0b1b8"
      },
      "execution_count": 15,
      "outputs": [
        {
          "output_type": "stream",
          "name": "stdout",
          "text": [
            "<bound method NDFrame.head of       rpt_rec_num  Provider CCN                         Hospital Name  \\\n",
            "0          700569         52043   1125 SIR FRANCIS DRAKE OPERATING CO   \n",
            "1          698041        421301         ABBEVILLE AREA MEDICAL CENTER   \n",
            "2          709145        190034            ABBEVILLE GENERAL HOSPITAL   \n",
            "3          705454        240057          ABBOTT NORTHWESTERN HOSPITAL   \n",
            "4          705220        450558                   ABILENE REG MED CTR   \n",
            "...           ...           ...                                   ...   \n",
            "6113       713551         61315                YUMA DISTRICT HOSPITAL   \n",
            "6114       707159         30013          YUMA REGIONAL MEDICAL CENTER   \n",
            "6115       685609         33034  YUMA REHABILITATION HOSPITAL  AN AFF   \n",
            "6116       687770        192041        ZACHARY-AMG SPECIALTY HOSPITAL   \n",
            "6117       708981         50228      ZUCKERBERG SAN FRANCISCO GENERAL   \n",
            "\n",
            "                     Street Address           City State Code    Zip Code  \\\n",
            "0       1125 SIR FRANCIS DRAKE BLVD      KENTFIELD         CA  94904-1455   \n",
            "1     ABBEVILLE AREA MEDICAL CENTER      ABBEVILLE         SC       29620   \n",
            "2          118 NORTH HOSPITAL DRIVE      ABBEVILLE         LA  70511-0580   \n",
            "3              800 EAST 28TH STREET    MINNEAPOLIS         MN       55407   \n",
            "4                    6250 HWY 83/84        ABILENE         TX       79606   \n",
            "...                             ...            ...        ...         ...   \n",
            "6113           1000 WEST 8TH AVENUE           YUMA         CO      80759-   \n",
            "6114                2400 S AVENUE A           YUMA         AZ       85364   \n",
            "6115           901 WEST 24TH STREET           YUMA         AZ       85364   \n",
            "6116        4601 MCHUGH RD.  BLDG B        ZACHARY         LA       70791   \n",
            "6117            1001 POTRERO AVENUE  SAN FRANCISCO         CA      94110-   \n",
            "\n",
            "                     County  Medicare CBSA Number Rural Versus Urban  ...  \\\n",
            "0                       NaN               94904.0                  U  ...   \n",
            "1                 ABBEVILLE               99942.0                  R  ...   \n",
            "2                 VERMILION               29180.0                  R  ...   \n",
            "3                  HENNEPIN               33460.0                  U  ...   \n",
            "4                    TAYLOR               10180.0                  U  ...   \n",
            "...                     ...                   ...                ...  ...   \n",
            "6113                   YUMA               99906.0                  R  ...   \n",
            "6114                   YUMA               49740.0                  U  ...   \n",
            "6115                   YUMA               49740.0                  U  ...   \n",
            "6116  E. BATON ROUGE PARISH               12940.0                  U  ...   \n",
            "6117          SAN FRANCISCO               41884.0                  U  ...   \n",
            "\n",
            "     Net Income from Service to Patients  Total Other Income  Total Income  \\\n",
            "0                              3885386.0            282333.0     4167719.0   \n",
            "1                             -6000221.0           5205543.0     -794678.0   \n",
            "2                             -1897650.0           3694407.0     1796757.0   \n",
            "3                           -179388418.0         229952218.0    50563800.0   \n",
            "4                             -7140506.0          10527317.0     3386811.0   \n",
            "...                                  ...                 ...           ...   \n",
            "6113                           -957720.0           1618853.0      661133.0   \n",
            "6114                           5718850.0          20614885.0    26333735.0   \n",
            "6115                           6975502.0            -24724.0     6950778.0   \n",
            "6116                           1497891.0               813.0     1498704.0   \n",
            "6117                        -291236625.0         216982408.0   -74254217.0   \n",
            "\n",
            "     Total Other Expenses  Net Income  Cost To Charge Ratio  \\\n",
            "0                     3.0   4167716.0                   NaN   \n",
            "1                  2754.0   -797432.0              0.525693   \n",
            "2                     NaN   1796757.0              0.308672   \n",
            "3                     NaN  50563800.0              0.268633   \n",
            "4                     NaN   3386811.0              0.100260   \n",
            "...                   ...         ...                   ...   \n",
            "6113             895300.0   -234167.0              0.632121   \n",
            "6114                  NaN  26333735.0              0.207615   \n",
            "6115                  NaN   6950778.0                   NaN   \n",
            "6116                  NaN   1498704.0                   NaN   \n",
            "6117                  NaN -74254217.0              0.286955   \n",
            "\n",
            "      Net Revenue from Medicaid  Medicaid Charges  \\\n",
            "0                           NaN               NaN   \n",
            "1                      234123.0      7.476990e+05   \n",
            "2                    15429157.0      4.882032e+07   \n",
            "3                    20419284.0      9.645565e+07   \n",
            "4                     7349497.0      9.805427e+07   \n",
            "...                         ...               ...   \n",
            "6113                  1474583.0      4.257378e+06   \n",
            "6114                 77284918.0      5.216138e+08   \n",
            "6115                        NaN               NaN   \n",
            "6116                        NaN               NaN   \n",
            "6117                363066030.0      1.616289e+09   \n",
            "\n",
            "      Net Revenue from Stand-Alone SCHIP  Stand-Alone SCHIP Charges  \n",
            "0                                    NaN                        NaN  \n",
            "1                                    NaN                        NaN  \n",
            "2                                    NaN                        NaN  \n",
            "3                                    NaN                        NaN  \n",
            "4                                57736.0                  1496447.0  \n",
            "...                                  ...                        ...  \n",
            "6113                              9078.0                    58303.0  \n",
            "6114                                 NaN                        NaN  \n",
            "6115                                 NaN                        NaN  \n",
            "6116                                 NaN                        NaN  \n",
            "6117                                 NaN                        NaN  \n",
            "\n",
            "[6118 rows x 126 columns]>\n"
          ]
        }
      ]
    },
    {
      "cell_type": "markdown",
      "source": [
        " Calculate measures of central tendency"
      ],
      "metadata": {
        "id": "xRoIyTQUhSK-"
      }
    },
    {
      "cell_type": "code",
      "source": [
        "mean = df['variable'].mean()\n",
        "median = df['variable'].median()\n",
        "mode = df['variable'].mode()"
      ],
      "metadata": {
        "id": "DWEknEwfhNMT"
      },
      "execution_count": null,
      "outputs": []
    },
    {
      "cell_type": "markdown",
      "source": [],
      "metadata": {
        "id": "KsuF-EC5hZkU"
      }
    }
  ]
}